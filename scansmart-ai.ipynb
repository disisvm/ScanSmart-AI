{
 "cells": [
  {
   "cell_type": "code",
   "execution_count": 1,
   "id": "0f857916",
   "metadata": {
    "execution": {
     "iopub.execute_input": "2024-08-10T21:54:23.409422Z",
     "iopub.status.busy": "2024-08-10T21:54:23.408532Z",
     "iopub.status.idle": "2024-08-10T21:54:38.270644Z",
     "shell.execute_reply": "2024-08-10T21:54:38.269291Z"
    },
    "papermill": {
     "duration": 14.874677,
     "end_time": "2024-08-10T21:54:38.273946",
     "exception": false,
     "start_time": "2024-08-10T21:54:23.399269",
     "status": "completed"
    },
    "tags": []
   },
   "outputs": [
    {
     "name": "stderr",
     "output_type": "stream",
     "text": [
      "2024-08-10 21:54:27.511488: E external/local_xla/xla/stream_executor/cuda/cuda_dnn.cc:9261] Unable to register cuDNN factory: Attempting to register factory for plugin cuDNN when one has already been registered\n",
      "2024-08-10 21:54:27.511609: E external/local_xla/xla/stream_executor/cuda/cuda_fft.cc:607] Unable to register cuFFT factory: Attempting to register factory for plugin cuFFT when one has already been registered\n",
      "2024-08-10 21:54:27.641803: E external/local_xla/xla/stream_executor/cuda/cuda_blas.cc:1515] Unable to register cuBLAS factory: Attempting to register factory for plugin cuBLAS when one has already been registered\n"
     ]
    }
   ],
   "source": [
    "import os\n",
    "from PIL import Image\n",
    "import numpy as np\n",
    "import pandas as pd\n",
    "import matplotlib.pyplot as plt\n",
    "import seaborn as sns\n",
    "from glob import glob\n",
    "#---------------------------------------\n",
    "from sklearn.model_selection import train_test_split\n",
    "from sklearn.metrics import classification_report, confusion_matrix\n",
    "#---------------------------------------\n",
    "import tensorflow as tf\n",
    "from tensorflow.keras.models import Sequential\n",
    "from tensorflow.keras.layers import Dense, Dropout, Flatten\n",
    "from tensorflow.keras.optimizers import Adamax\n",
    "from tensorflow.keras.metrics import Precision, Recall\n",
    "from tensorflow.keras.preprocessing.image import ImageDataGenerator\n",
    "from tensorflow.keras.preprocessing.image import load_img, img_to_array\n",
    "from tensorflow.keras.preprocessing import image_dataset_from_directory\n",
    "from tensorflow.image import resize\n",
    "#---------------------------------------\n",
    "from tensorflow.keras.applications import VGG16, ResNet50, InceptionV3, EfficientNetB0\n",
    "from tensorflow.keras.layers import Dense, GlobalAveragePooling2D\n",
    "from tensorflow.keras.models import Model, load_model\n",
    "from tensorflow.keras.callbacks import ModelCheckpoint, EarlyStopping, ReduceLROnPlateau\n",
    "#---------------------------------------\n",
    "import warnings\n",
    "warnings.filterwarnings(\"ignore\")"
   ]
  },
  {
   "cell_type": "code",
   "execution_count": 2,
   "id": "ff4adc4b",
   "metadata": {
    "execution": {
     "iopub.execute_input": "2024-08-10T21:54:38.297527Z",
     "iopub.status.busy": "2024-08-10T21:54:38.296802Z",
     "iopub.status.idle": "2024-08-10T21:54:38.303817Z",
     "shell.execute_reply": "2024-08-10T21:54:38.302821Z"
    },
    "papermill": {
     "duration": 0.019534,
     "end_time": "2024-08-10T21:54:38.306146",
     "exception": false,
     "start_time": "2024-08-10T21:54:38.286612",
     "status": "completed"
    },
    "tags": []
   },
   "outputs": [],
   "source": [
    "def train_df(tr_path):\n",
    "    classes, class_paths = zip(*[(label, os.path.join(tr_path, label, image))\n",
    "                                 for label in os.listdir(tr_path) if os.path.isdir(os.path.join(tr_path, label))\n",
    "                                 for image in os.listdir(os.path.join(tr_path, label))])\n",
    "\n",
    "    tr_df = pd.DataFrame({'Class Path': class_paths, 'Class': classes})\n",
    "    return tr_df"
   ]
  },
  {
   "cell_type": "code",
   "execution_count": 3,
   "id": "c76991ac",
   "metadata": {
    "execution": {
     "iopub.execute_input": "2024-08-10T21:54:38.322338Z",
     "iopub.status.busy": "2024-08-10T21:54:38.321513Z",
     "iopub.status.idle": "2024-08-10T21:54:38.327924Z",
     "shell.execute_reply": "2024-08-10T21:54:38.326915Z"
    },
    "papermill": {
     "duration": 0.016874,
     "end_time": "2024-08-10T21:54:38.330265",
     "exception": false,
     "start_time": "2024-08-10T21:54:38.313391",
     "status": "completed"
    },
    "tags": []
   },
   "outputs": [],
   "source": [
    "def test_df(ts_path):\n",
    "    classes, class_paths = zip(*[(label, os.path.join(ts_path, label, image))\n",
    "                                 for label in os.listdir(ts_path) if os.path.isdir(os.path.join(ts_path, label))\n",
    "                                 for image in os.listdir(os.path.join(ts_path, label))])\n",
    "\n",
    "    ts_df = pd.DataFrame({'Class Path': class_paths, 'Class': classes})\n",
    "    return ts_df"
   ]
  },
  {
   "cell_type": "code",
   "execution_count": 4,
   "id": "e28f749c",
   "metadata": {
    "execution": {
     "iopub.execute_input": "2024-08-10T21:54:38.347184Z",
     "iopub.status.busy": "2024-08-10T21:54:38.346266Z",
     "iopub.status.idle": "2024-08-10T21:54:39.058667Z",
     "shell.execute_reply": "2024-08-10T21:54:39.057666Z"
    },
    "papermill": {
     "duration": 0.723164,
     "end_time": "2024-08-10T21:54:39.061014",
     "exception": false,
     "start_time": "2024-08-10T21:54:38.337850",
     "status": "completed"
    },
    "tags": []
   },
   "outputs": [
    {
     "data": {
      "text/html": [
       "<div>\n",
       "<style scoped>\n",
       "    .dataframe tbody tr th:only-of-type {\n",
       "        vertical-align: middle;\n",
       "    }\n",
       "\n",
       "    .dataframe tbody tr th {\n",
       "        vertical-align: top;\n",
       "    }\n",
       "\n",
       "    .dataframe thead th {\n",
       "        text-align: right;\n",
       "    }\n",
       "</style>\n",
       "<table border=\"1\" class=\"dataframe\">\n",
       "  <thead>\n",
       "    <tr style=\"text-align: right;\">\n",
       "      <th></th>\n",
       "      <th>Class Path</th>\n",
       "      <th>Class</th>\n",
       "    </tr>\n",
       "  </thead>\n",
       "  <tbody>\n",
       "    <tr>\n",
       "      <th>0</th>\n",
       "      <td>/kaggle/input/brain-tumor-mri-dataset/Training...</td>\n",
       "      <td>pituitary</td>\n",
       "    </tr>\n",
       "    <tr>\n",
       "      <th>1</th>\n",
       "      <td>/kaggle/input/brain-tumor-mri-dataset/Training...</td>\n",
       "      <td>pituitary</td>\n",
       "    </tr>\n",
       "    <tr>\n",
       "      <th>2</th>\n",
       "      <td>/kaggle/input/brain-tumor-mri-dataset/Training...</td>\n",
       "      <td>pituitary</td>\n",
       "    </tr>\n",
       "    <tr>\n",
       "      <th>3</th>\n",
       "      <td>/kaggle/input/brain-tumor-mri-dataset/Training...</td>\n",
       "      <td>pituitary</td>\n",
       "    </tr>\n",
       "    <tr>\n",
       "      <th>4</th>\n",
       "      <td>/kaggle/input/brain-tumor-mri-dataset/Training...</td>\n",
       "      <td>pituitary</td>\n",
       "    </tr>\n",
       "    <tr>\n",
       "      <th>...</th>\n",
       "      <td>...</td>\n",
       "      <td>...</td>\n",
       "    </tr>\n",
       "    <tr>\n",
       "      <th>5707</th>\n",
       "      <td>/kaggle/input/brain-tumor-mri-dataset/Training...</td>\n",
       "      <td>glioma</td>\n",
       "    </tr>\n",
       "    <tr>\n",
       "      <th>5708</th>\n",
       "      <td>/kaggle/input/brain-tumor-mri-dataset/Training...</td>\n",
       "      <td>glioma</td>\n",
       "    </tr>\n",
       "    <tr>\n",
       "      <th>5709</th>\n",
       "      <td>/kaggle/input/brain-tumor-mri-dataset/Training...</td>\n",
       "      <td>glioma</td>\n",
       "    </tr>\n",
       "    <tr>\n",
       "      <th>5710</th>\n",
       "      <td>/kaggle/input/brain-tumor-mri-dataset/Training...</td>\n",
       "      <td>glioma</td>\n",
       "    </tr>\n",
       "    <tr>\n",
       "      <th>5711</th>\n",
       "      <td>/kaggle/input/brain-tumor-mri-dataset/Training...</td>\n",
       "      <td>glioma</td>\n",
       "    </tr>\n",
       "  </tbody>\n",
       "</table>\n",
       "<p>5712 rows × 2 columns</p>\n",
       "</div>"
      ],
      "text/plain": [
       "                                             Class Path      Class\n",
       "0     /kaggle/input/brain-tumor-mri-dataset/Training...  pituitary\n",
       "1     /kaggle/input/brain-tumor-mri-dataset/Training...  pituitary\n",
       "2     /kaggle/input/brain-tumor-mri-dataset/Training...  pituitary\n",
       "3     /kaggle/input/brain-tumor-mri-dataset/Training...  pituitary\n",
       "4     /kaggle/input/brain-tumor-mri-dataset/Training...  pituitary\n",
       "...                                                 ...        ...\n",
       "5707  /kaggle/input/brain-tumor-mri-dataset/Training...     glioma\n",
       "5708  /kaggle/input/brain-tumor-mri-dataset/Training...     glioma\n",
       "5709  /kaggle/input/brain-tumor-mri-dataset/Training...     glioma\n",
       "5710  /kaggle/input/brain-tumor-mri-dataset/Training...     glioma\n",
       "5711  /kaggle/input/brain-tumor-mri-dataset/Training...     glioma\n",
       "\n",
       "[5712 rows x 2 columns]"
      ]
     },
     "execution_count": 4,
     "metadata": {},
     "output_type": "execute_result"
    }
   ],
   "source": [
    "tr_df = train_df('/kaggle/input/brain-tumor-mri-dataset/Training')\n",
    "tr_df"
   ]
  },
  {
   "cell_type": "code",
   "execution_count": 5,
   "id": "aee16b9e",
   "metadata": {
    "execution": {
     "iopub.execute_input": "2024-08-10T21:54:39.078607Z",
     "iopub.status.busy": "2024-08-10T21:54:39.077955Z",
     "iopub.status.idle": "2024-08-10T21:54:39.312381Z",
     "shell.execute_reply": "2024-08-10T21:54:39.311390Z"
    },
    "papermill": {
     "duration": 0.245849,
     "end_time": "2024-08-10T21:54:39.314920",
     "exception": false,
     "start_time": "2024-08-10T21:54:39.069071",
     "status": "completed"
    },
    "tags": []
   },
   "outputs": [
    {
     "data": {
      "text/html": [
       "<div>\n",
       "<style scoped>\n",
       "    .dataframe tbody tr th:only-of-type {\n",
       "        vertical-align: middle;\n",
       "    }\n",
       "\n",
       "    .dataframe tbody tr th {\n",
       "        vertical-align: top;\n",
       "    }\n",
       "\n",
       "    .dataframe thead th {\n",
       "        text-align: right;\n",
       "    }\n",
       "</style>\n",
       "<table border=\"1\" class=\"dataframe\">\n",
       "  <thead>\n",
       "    <tr style=\"text-align: right;\">\n",
       "      <th></th>\n",
       "      <th>Class Path</th>\n",
       "      <th>Class</th>\n",
       "    </tr>\n",
       "  </thead>\n",
       "  <tbody>\n",
       "    <tr>\n",
       "      <th>0</th>\n",
       "      <td>/kaggle/input/brain-tumor-mri-dataset/Testing/...</td>\n",
       "      <td>pituitary</td>\n",
       "    </tr>\n",
       "    <tr>\n",
       "      <th>1</th>\n",
       "      <td>/kaggle/input/brain-tumor-mri-dataset/Testing/...</td>\n",
       "      <td>pituitary</td>\n",
       "    </tr>\n",
       "    <tr>\n",
       "      <th>2</th>\n",
       "      <td>/kaggle/input/brain-tumor-mri-dataset/Testing/...</td>\n",
       "      <td>pituitary</td>\n",
       "    </tr>\n",
       "    <tr>\n",
       "      <th>3</th>\n",
       "      <td>/kaggle/input/brain-tumor-mri-dataset/Testing/...</td>\n",
       "      <td>pituitary</td>\n",
       "    </tr>\n",
       "    <tr>\n",
       "      <th>4</th>\n",
       "      <td>/kaggle/input/brain-tumor-mri-dataset/Testing/...</td>\n",
       "      <td>pituitary</td>\n",
       "    </tr>\n",
       "    <tr>\n",
       "      <th>...</th>\n",
       "      <td>...</td>\n",
       "      <td>...</td>\n",
       "    </tr>\n",
       "    <tr>\n",
       "      <th>1306</th>\n",
       "      <td>/kaggle/input/brain-tumor-mri-dataset/Testing/...</td>\n",
       "      <td>glioma</td>\n",
       "    </tr>\n",
       "    <tr>\n",
       "      <th>1307</th>\n",
       "      <td>/kaggle/input/brain-tumor-mri-dataset/Testing/...</td>\n",
       "      <td>glioma</td>\n",
       "    </tr>\n",
       "    <tr>\n",
       "      <th>1308</th>\n",
       "      <td>/kaggle/input/brain-tumor-mri-dataset/Testing/...</td>\n",
       "      <td>glioma</td>\n",
       "    </tr>\n",
       "    <tr>\n",
       "      <th>1309</th>\n",
       "      <td>/kaggle/input/brain-tumor-mri-dataset/Testing/...</td>\n",
       "      <td>glioma</td>\n",
       "    </tr>\n",
       "    <tr>\n",
       "      <th>1310</th>\n",
       "      <td>/kaggle/input/brain-tumor-mri-dataset/Testing/...</td>\n",
       "      <td>glioma</td>\n",
       "    </tr>\n",
       "  </tbody>\n",
       "</table>\n",
       "<p>1311 rows × 2 columns</p>\n",
       "</div>"
      ],
      "text/plain": [
       "                                             Class Path      Class\n",
       "0     /kaggle/input/brain-tumor-mri-dataset/Testing/...  pituitary\n",
       "1     /kaggle/input/brain-tumor-mri-dataset/Testing/...  pituitary\n",
       "2     /kaggle/input/brain-tumor-mri-dataset/Testing/...  pituitary\n",
       "3     /kaggle/input/brain-tumor-mri-dataset/Testing/...  pituitary\n",
       "4     /kaggle/input/brain-tumor-mri-dataset/Testing/...  pituitary\n",
       "...                                                 ...        ...\n",
       "1306  /kaggle/input/brain-tumor-mri-dataset/Testing/...     glioma\n",
       "1307  /kaggle/input/brain-tumor-mri-dataset/Testing/...     glioma\n",
       "1308  /kaggle/input/brain-tumor-mri-dataset/Testing/...     glioma\n",
       "1309  /kaggle/input/brain-tumor-mri-dataset/Testing/...     glioma\n",
       "1310  /kaggle/input/brain-tumor-mri-dataset/Testing/...     glioma\n",
       "\n",
       "[1311 rows x 2 columns]"
      ]
     },
     "execution_count": 5,
     "metadata": {},
     "output_type": "execute_result"
    }
   ],
   "source": [
    "ts_df = test_df('/kaggle/input/brain-tumor-mri-dataset/Testing')\n",
    "ts_df"
   ]
  },
  {
   "cell_type": "code",
   "execution_count": 6,
   "id": "99758c92",
   "metadata": {
    "execution": {
     "iopub.execute_input": "2024-08-10T21:54:39.333221Z",
     "iopub.status.busy": "2024-08-10T21:54:39.332453Z",
     "iopub.status.idle": "2024-08-10T21:54:39.339422Z",
     "shell.execute_reply": "2024-08-10T21:54:39.338354Z"
    },
    "papermill": {
     "duration": 0.018662,
     "end_time": "2024-08-10T21:54:39.341737",
     "exception": false,
     "start_time": "2024-08-10T21:54:39.323075",
     "status": "completed"
    },
    "tags": []
   },
   "outputs": [],
   "source": [
    "# Define paths\n",
    "base_dir = '/kaggle/input/brain-tumor-mri-dataset'\n",
    "train_dir = os.path.join(base_dir, 'Training')\n",
    "test_dir = os.path.join(base_dir, 'Testing')\n",
    "\n",
    "# Image dimensions\n",
    "img_height, img_width = 224, 224\n",
    "\n",
    "# Data augmentation and normalization for training\n",
    "train_datagen = ImageDataGenerator(\n",
    "    rescale=1./255,\n",
    "    rotation_range=20,\n",
    "    width_shift_range=0.2,\n",
    "    height_shift_range=0.2,\n",
    "    shear_range=0.2,\n",
    "    zoom_range=0.2,\n",
    "    horizontal_flip=True,\n",
    "    fill_mode='nearest',\n",
    "    validation_split=0.2\n",
    ")"
   ]
  },
  {
   "cell_type": "code",
   "execution_count": 7,
   "id": "3c52b77e",
   "metadata": {
    "execution": {
     "iopub.execute_input": "2024-08-10T21:54:39.359946Z",
     "iopub.status.busy": "2024-08-10T21:54:39.359222Z",
     "iopub.status.idle": "2024-08-10T21:54:39.364310Z",
     "shell.execute_reply": "2024-08-10T21:54:39.363225Z"
    },
    "papermill": {
     "duration": 0.016431,
     "end_time": "2024-08-10T21:54:39.366493",
     "exception": false,
     "start_time": "2024-08-10T21:54:39.350062",
     "status": "completed"
    },
    "tags": []
   },
   "outputs": [],
   "source": [
    "# Only rescaling for testing\n",
    "validation_datagen = ImageDataGenerator(rescale=1./255)\n",
    "test_datagen = ImageDataGenerator(rescale=1./255)"
   ]
  },
  {
   "cell_type": "code",
   "execution_count": 8,
   "id": "2880e237",
   "metadata": {
    "execution": {
     "iopub.execute_input": "2024-08-10T21:54:39.384229Z",
     "iopub.status.busy": "2024-08-10T21:54:39.383903Z",
     "iopub.status.idle": "2024-08-10T21:54:42.743976Z",
     "shell.execute_reply": "2024-08-10T21:54:42.742853Z"
    },
    "papermill": {
     "duration": 3.371676,
     "end_time": "2024-08-10T21:54:42.746269",
     "exception": false,
     "start_time": "2024-08-10T21:54:39.374593",
     "status": "completed"
    },
    "tags": []
   },
   "outputs": [
    {
     "name": "stdout",
     "output_type": "stream",
     "text": [
      "Found 5712 images belonging to 4 classes.\n",
      "Found 0 images belonging to 4 classes.\n",
      "Found 1311 images belonging to 4 classes.\n",
      "{'glioma': 0, 'meningioma': 1, 'notumor': 2, 'pituitary': 3}\n",
      "{'glioma': 0, 'meningioma': 1, 'notumor': 2, 'pituitary': 3}\n"
     ]
    }
   ],
   "source": [
    "# Load and preprocess the training data\n",
    "train_generator = train_datagen.flow_from_directory(\n",
    "    train_dir,\n",
    "    target_size=(img_height, img_width),\n",
    "    batch_size=32,\n",
    "    class_mode='categorical'\n",
    ")\n",
    "\n",
    "# Load and preprocess the validation data\n",
    "validation_generator = validation_datagen.flow_from_directory(\n",
    "    train_dir,\n",
    "    target_size=(img_height, img_width),\n",
    "    batch_size=32,\n",
    "    class_mode='categorical',\n",
    "    subset='validation'\n",
    ")\n",
    "\n",
    "# Load and preprocess the testing data\n",
    "test_generator = test_datagen.flow_from_directory(\n",
    "    test_dir,\n",
    "    target_size=(img_height, img_width),\n",
    "    batch_size=32,\n",
    "    class_mode='categorical'\n",
    ")\n",
    "\n",
    "# Verify the class indices\n",
    "print(train_generator.class_indices)\n",
    "print(test_generator.class_indices)"
   ]
  },
  {
   "cell_type": "code",
   "execution_count": 9,
   "id": "c9c9ee3a",
   "metadata": {
    "execution": {
     "iopub.execute_input": "2024-08-10T21:54:42.764494Z",
     "iopub.status.busy": "2024-08-10T21:54:42.764102Z",
     "iopub.status.idle": "2024-08-10T21:54:43.066777Z",
     "shell.execute_reply": "2024-08-10T21:54:43.065702Z"
    },
    "papermill": {
     "duration": 0.314566,
     "end_time": "2024-08-10T21:54:43.069294",
     "exception": false,
     "start_time": "2024-08-10T21:54:42.754728",
     "status": "completed"
    },
    "tags": []
   },
   "outputs": [
    {
     "data": {
      "image/png": "[encoded data removed]",
      "text/plain": [
       "<Figure size 1500x700 with 1 Axes>"
      ]
     },
     "metadata": {},
     "output_type": "display_data"
    }
   ],
   "source": [
    "# Count of images in each class in train data\n",
    "plt.figure(figsize=(15,7))\n",
    "ax = sns.countplot(data=tr_df , y=tr_df['Class'])\n",
    "\n",
    "plt.xlabel('')\n",
    "plt.ylabel('')\n",
    "plt.title('Count of Training images in each class', fontsize=20)\n",
    "ax.bar_label(ax.containers[0])\n",
    "plt.show()"
   ]
  },
  {
   "cell_type": "code",
   "execution_count": 10,
   "id": "e5a2f78a",
   "metadata": {
    "execution": {
     "iopub.execute_input": "2024-08-10T21:54:43.090006Z",
     "iopub.status.busy": "2024-08-10T21:54:43.089280Z",
     "iopub.status.idle": "2024-08-10T21:54:43.409528Z",
     "shell.execute_reply": "2024-08-10T21:54:43.408474Z"
    },
    "papermill": {
     "duration": 0.33299,
     "end_time": "2024-08-10T21:54:43.412262",
     "exception": false,
     "start_time": "2024-08-10T21:54:43.079272",
     "status": "completed"
    },
    "tags": []
   },
   "outputs": [
    {
     "data": {
      "image/png": "[encoded data removed]",
      "text/plain": [
       "<Figure size 1500x700 with 1 Axes>"
      ]
     },
     "metadata": {},
     "output_type": "display_data"
    }
   ],
   "source": [
    "#Count each class in test data\n",
    "plt.figure(figsize=(15, 7))\n",
    "ax = sns.countplot(y=ts_df['Class'], palette='viridis')\n",
    "\n",
    "ax.set(xlabel='', ylabel='', title='Count of Testing images in each class')\n",
    "ax.bar_label(ax.containers[0])\n",
    "\n",
    "plt.show()"
   ]
  },
  {
   "cell_type": "code",
   "execution_count": 11,
   "id": "6c6a323d",
   "metadata": {
    "execution": {
     "iopub.execute_input": "2024-08-10T21:54:43.435340Z",
     "iopub.status.busy": "2024-08-10T21:54:43.434416Z",
     "iopub.status.idle": "2024-08-10T21:55:55.200500Z",
     "shell.execute_reply": "2024-08-10T21:55:55.199360Z"
    },
    "papermill": {
     "duration": 71.789042,
     "end_time": "2024-08-10T21:55:55.212332",
     "exception": false,
     "start_time": "2024-08-10T21:54:43.423290",
     "status": "completed"
    },
    "tags": []
   },
   "outputs": [
    {
     "name": "stdout",
     "output_type": "stream",
     "text": [
      "Number of training images: 5712\n",
      "Number of testing images: 1311\n",
      "Classes: ['glioma', 'meningioma', 'notumor', 'pituitary']\n"
     ]
    }
   ],
   "source": [
    "# Define paths\n",
    "base_dir = '/kaggle/input/brain-tumor-mri-dataset'\n",
    "train_dir = os.path.join(base_dir, 'Training')\n",
    "test_dir = os.path.join(base_dir, 'Testing')\n",
    "\n",
    "# Image dimensions\n",
    "img_height, img_width = 224, 224\n",
    "\n",
    "# Function to load and resize images\n",
    "def load_and_resize_images(directory, target_size=(img_height, img_width)):\n",
    "    images = []\n",
    "    labels = []\n",
    "    class_names = sorted(os.listdir(directory))\n",
    "    for class_name in class_names:\n",
    "        class_dir = os.path.join(directory, class_name)\n",
    "        for img_name in os.listdir(class_dir):\n",
    "            img_path = os.path.join(class_dir, img_name)\n",
    "            image = load_img(img_path)\n",
    "            image = img_to_array(image)\n",
    "            image = resize(image, target_size)\n",
    "            images.append(image.numpy()) \n",
    "            labels.append(class_name)\n",
    "    images = np.array(images)\n",
    "    labels = np.array(labels)\n",
    "    return images, labels, class_names\n",
    "\n",
    "# Load and resize training data\n",
    "train_images, train_labels, class_names = load_and_resize_images(train_dir)\n",
    "test_images, test_labels, _ = load_and_resize_images(test_dir)\n",
    "\n",
    "# Display basic dataset information\n",
    "print(f'Number of training images: {len(train_images)}')\n",
    "print(f'Number of testing images: {len(test_images)}')\n",
    "print(f'Classes: {class_names}')"
   ]
  },
  {
   "cell_type": "code",
   "execution_count": 12,
   "id": "8b679118",
   "metadata": {
    "execution": {
     "iopub.execute_input": "2024-08-10T21:55:55.234306Z",
     "iopub.status.busy": "2024-08-10T21:55:55.233349Z",
     "iopub.status.idle": "2024-08-10T21:55:55.267460Z",
     "shell.execute_reply": "2024-08-10T21:55:55.266143Z"
    },
    "papermill": {
     "duration": 0.048169,
     "end_time": "2024-08-10T21:55:55.270079",
     "exception": false,
     "start_time": "2024-08-10T21:55:55.221910",
     "status": "completed"
    },
    "tags": []
   },
   "outputs": [
    {
     "name": "stdout",
     "output_type": "stream",
     "text": [
      "Training Image Dimensions:\n",
      "Dimension: [224 224   3], Count: 5712\n",
      "Testing Image Dimensions:\n",
      "Dimension: [224 224   3], Count: 1311\n"
     ]
    }
   ],
   "source": [
    "# Analyze image dimensions\n",
    "def analyze_image_dimensions(images):\n",
    "    dimensions = [img.shape for img in images]\n",
    "    dimensions = np.array(dimensions)\n",
    "    unique_dimensions, counts = np.unique(dimensions, axis=0, return_counts=True)\n",
    "    for dim, count in zip(unique_dimensions, counts):\n",
    "        print(f'Dimension: {dim}, Count: {count}')\n",
    "\n",
    "print('Training Image Dimensions:')\n",
    "analyze_image_dimensions(train_images)\n",
    "print('Testing Image Dimensions:')\n",
    "analyze_image_dimensions(test_images)"
   ]
  },
  {
   "cell_type": "code",
   "execution_count": 13,
   "id": "25bb1ed0",
   "metadata": {
    "execution": {
     "iopub.execute_input": "2024-08-10T21:55:55.292014Z",
     "iopub.status.busy": "2024-08-10T21:55:55.291636Z",
     "iopub.status.idle": "2024-08-10T21:55:58.932275Z",
     "shell.execute_reply": "2024-08-10T21:55:58.931062Z"
    },
    "papermill": {
     "duration": 3.654154,
     "end_time": "2024-08-10T21:55:58.934645",
     "exception": false,
     "start_time": "2024-08-10T21:55:55.280491",
     "status": "completed"
    },
    "tags": []
   },
   "outputs": [
    {
     "name": "stdout",
     "output_type": "stream",
     "text": [
      "Training Data - Mean: 47.285579681396484, Std: 51.528846740722656, Min: 0.0, Max: 255.0\n",
      "Testing Data - Mean: 49.151268005371094, Std: 53.712154388427734, Min: 0.0, Max: 255.0\n"
     ]
    }
   ],
   "source": [
    "# Compute basic statistics\n",
    "def compute_statistics(images):\n",
    "    pixel_values = images.ravel()\n",
    "    mean = np.mean(pixel_values)\n",
    "    std = np.std(pixel_values)\n",
    "    min_val = np.min(pixel_values)\n",
    "    max_val = np.max(pixel_values)\n",
    "    return mean, std, min_val, max_val\n",
    "\n",
    "train_mean, train_std, train_min, train_max = compute_statistics(train_images)\n",
    "test_mean, test_std, test_min, test_max = compute_statistics(test_images)\n",
    "\n",
    "print(f'Training Data - Mean: {train_mean}, Std: {train_std}, Min: {train_min}, Max: {train_max}')\n",
    "print(f'Testing Data - Mean: {test_mean}, Std: {test_std}, Min: {test_min}, Max: {test_max}')"
   ]
  },
  {
   "cell_type": "code",
   "execution_count": 14,
   "id": "079a4201",
   "metadata": {
    "execution": {
     "iopub.execute_input": "2024-08-10T21:55:58.956380Z",
     "iopub.status.busy": "2024-08-10T21:55:58.955654Z",
     "iopub.status.idle": "2024-08-10T21:56:12.941982Z",
     "shell.execute_reply": "2024-08-10T21:56:12.940856Z"
    },
    "papermill": {
     "duration": 13.999899,
     "end_time": "2024-08-10T21:56:12.944592",
     "exception": false,
     "start_time": "2024-08-10T21:55:58.944693",
     "status": "completed"
    },
    "tags": []
   },
   "outputs": [
    {
     "data": {
      "image/png": "[encoded data removed]",
      "text/plain": [
       "<Figure size 1000x600 with 1 Axes>"
      ]
     },
     "metadata": {},
     "output_type": "display_data"
    }
   ],
   "source": [
    "def plot_pixel_intensity_distribution(images):\n",
    "    flattened_images = images.reshape(-1, images.shape[-1])\n",
    "    plt.figure(figsize=(10, 6))\n",
    "    plt.hist(flattened_images.flatten(), bins=50, color='lightcoral', alpha=0.7)\n",
    "    plt.title('Pixel Intensity Distribution')\n",
    "    plt.xlabel('Pixel Intensity')\n",
    "    plt.ylabel('Frequency')\n",
    "    plt.show()\n",
    "\n",
    "plot_pixel_intensity_distribution(train_images)"
   ]
  },
  {
   "cell_type": "code",
   "execution_count": 15,
   "id": "ea1d0b75",
   "metadata": {
    "execution": {
     "iopub.execute_input": "2024-08-10T21:56:12.966669Z",
     "iopub.status.busy": "2024-08-10T21:56:12.966281Z",
     "iopub.status.idle": "2024-08-10T21:56:31.364017Z",
     "shell.execute_reply": "2024-08-10T21:56:31.362943Z"
    },
    "papermill": {
     "duration": 18.411764,
     "end_time": "2024-08-10T21:56:31.366786",
     "exception": false,
     "start_time": "2024-08-10T21:56:12.955022",
     "status": "completed"
    },
    "scrolled": true,
    "tags": []
   },
   "outputs": [],
   "source": [
    "import os\n",
    "import numpy as np\n",
    "import tensorflow as tf\n",
    "from tensorflow.keras.preprocessing.image import ImageDataGenerator\n",
    "from tensorflow.keras.applications import VGG16, InceptionV3, ResNet50, EfficientNetB0\n",
    "from tensorflow.keras.layers import GlobalAveragePooling2D, Dense, Dropout\n",
    "from tensorflow.keras.models import Model\n",
    "from tensorflow.keras.optimizers import Adam\n",
    "from tensorflow.keras.callbacks import EarlyStopping, ReduceLROnPlateau, ModelCheckpoint\n",
    "from sklearn.metrics import classification_report, confusion_matrix\n",
    "from sklearn.model_selection import train_test_split\n",
    "import keras_tuner as kt\n",
    "import tempfile\n",
    "import shutil\n",
    "\n",
    "# Load and preprocess training data\n",
    "train_images = []\n",
    "train_labels = []\n",
    "class_names = sorted(os.listdir(train_dir))\n",
    "label_map = {class_name: idx for idx, class_name in enumerate(class_names)}\n",
    "\n",
    "for class_name in class_names:\n",
    "    class_dir = os.path.join(train_dir, class_name)\n",
    "    for img_name in os.listdir(class_dir):\n",
    "        img_path = os.path.join(class_dir, img_name)\n",
    "        image = tf.keras.preprocessing.image.load_img(img_path, target_size=(img_height, img_width))\n",
    "        image = tf.keras.preprocessing.image.img_to_array(image) / 255.0\n",
    "        train_images.append(image)\n",
    "        train_labels.append(label_map[class_name])\n",
    "\n",
    "train_images = np.array(train_images)\n",
    "train_labels = np.array(train_labels)\n",
    "\n",
    "# Load and preprocess testing data\n",
    "test_images = []\n",
    "test_labels = []\n",
    "\n",
    "for class_name in class_names:\n",
    "    class_dir = os.path.join(test_dir, class_name)\n",
    "    for img_name in os.listdir(class_dir):\n",
    "        img_path = os.path.join(class_dir, img_name)\n",
    "        image = tf.keras.preprocessing.image.load_img(img_path, target_size=(img_height, img_width))\n",
    "        image = tf.keras.preprocessing.image.img_to_array(image) / 255.0\n",
    "        test_images.append(image)\n",
    "        test_labels.append(label_map[class_name])\n",
    "\n",
    "test_images = np.array(test_images)\n",
    "test_labels = np.array(test_labels)\n",
    "\n",
    "# Split the training data into training and validation sets\n",
    "train_images, val_images, train_labels, val_labels = train_test_split(\n",
    "    train_images, train_labels, test_size=0.2, random_state=42, stratify=train_labels)\n",
    "\n",
    "# Create data generators\n",
    "train_datagen = ImageDataGenerator(\n",
    "    rotation_range=20,\n",
    "    width_shift_range=0.2,\n",
    "    height_shift_range=0.2,\n",
    "    shear_range=0.2,\n",
    "    zoom_range=0.2,\n",
    "    horizontal_flip=True,\n",
    "    fill_mode='nearest'\n",
    ")\n",
    "\n",
    "test_datagen = ImageDataGenerator()\n",
    "\n",
    "train_generator = train_datagen.flow(train_images, train_labels, batch_size=32)\n",
    "val_generator = test_datagen.flow(val_images, val_labels, batch_size=32)\n",
    "test_generator = test_datagen.flow(test_images, test_labels, batch_size=32, shuffle=False)"
   ]
  },
  {
   "cell_type": "code",
   "execution_count": 16,
   "id": "62a623ae",
   "metadata": {
    "execution": {
     "iopub.execute_input": "2024-08-10T21:56:31.388539Z",
     "iopub.status.busy": "2024-08-10T21:56:31.387651Z",
     "iopub.status.idle": "2024-08-10T22:12:57.753076Z",
     "shell.execute_reply": "2024-08-10T22:12:57.751797Z"
    },
    "papermill": {
     "duration": 986.378919,
     "end_time": "2024-08-10T22:12:57.755579",
     "exception": false,
     "start_time": "2024-08-10T21:56:31.376660",
     "status": "completed"
    },
    "scrolled": true,
    "tags": []
   },
   "outputs": [
    {
     "name": "stdout",
     "output_type": "stream",
     "text": [
      "Trial 1 Complete [00h 04m 14s]\n",
      "val_accuracy: 0.27909010648727417\n",
      "\n",
      "Best val_accuracy So Far: 0.27909010648727417\n",
      "Total elapsed time: 00h 04m 14s\n",
      "\u001b[1m  2/143\u001b[0m \u001b[37m━━━━━━━━━━━━━━━━━━━━\u001b[0m \u001b[1m8s\u001b[0m 59ms/step - accuracy: 0.2344 - loss: 1.8880    "
     ]
    },
    {
     "name": "stderr",
     "output_type": "stream",
     "text": [
      "W0000 00:00:1723327886.114236      92 graph_launch.cc:671] Fallback to op-by-op mode because memset node breaks graph update\n"
     ]
    },
    {
     "name": "stdout",
     "output_type": "stream",
     "text": [
      "\u001b[1m 32/143\u001b[0m \u001b[32m━━━━\u001b[0m\u001b[37m━━━━━━━━━━━━━━━━\u001b[0m \u001b[1m1:52\u001b[0m 1s/step - accuracy: 0.2482 - loss: 2.0192"
     ]
    },
    {
     "name": "stderr",
     "output_type": "stream",
     "text": [
      "W0000 00:00:1723327917.440268      93 graph_launch.cc:671] Fallback to op-by-op mode because memset node breaks graph update\n"
     ]
    },
    {
     "name": "stdout",
     "output_type": "stream",
     "text": [
      "\u001b[1m143/143\u001b[0m \u001b[32m━━━━━━━━━━━━━━━━━━━━\u001b[0m\u001b[37m\u001b[0m \u001b[1m0s\u001b[0m 474ms/step - accuracy: 0.2544 - loss: 1.6410"
     ]
    },
    {
     "name": "stderr",
     "output_type": "stream",
     "text": [
      "W0000 00:00:1723327960.464706      93 graph_launch.cc:671] Fallback to op-by-op mode because memset node breaks graph update\n",
      "W0000 00:00:1723327965.029583      91 graph_launch.cc:671] Fallback to op-by-op mode because memset node breaks graph update\n"
     ]
    },
    {
     "name": "stdout",
     "output_type": "stream",
     "text": [
      "\u001b[1m143/143\u001b[0m \u001b[32m━━━━━━━━━━━━━━━━━━━━\u001b[0m\u001b[37m\u001b[0m \u001b[1m116s\u001b[0m 557ms/step - accuracy: 0.2544 - loss: 1.6398 - val_accuracy: 0.2791 - val_loss: 1.3845 - learning_rate: 0.0100\n",
      "\u001b[1m41/41\u001b[0m \u001b[32m━━━━━━━━━━━━━━━━━━━━\u001b[0m\u001b[37m\u001b[0m \u001b[1m12s\u001b[0m 300ms/step - accuracy: 0.1600 - loss: 1.4071\n",
      "Fine-tuned EfficientNetB0 Test Accuracy: 0.3089\n"
     ]
    },
    {
     "name": "stderr",
     "output_type": "stream",
     "text": [
      "W0000 00:00:1723327977.691226      92 graph_launch.cc:671] Fallback to op-by-op mode because memset node breaks graph update\n"
     ]
    }
   ],
   "source": [
    "# Create a function to create a model with transfer learning and hyperparameter tuning\n",
    "def build_model(hp, base_model):\n",
    "    x = base_model.output\n",
    "    x = GlobalAveragePooling2D()(x)\n",
    "    x = Dense(hp.Int('units', min_value=512, max_value=2048, step=512), activation='relu')(x)\n",
    "    x = Dropout(hp.Float('dropout', min_value=0.3, max_value=0.7, step=0.1))(x)\n",
    "    predictions = Dense(len(class_names), activation='softmax')(x)\n",
    "    model = Model(inputs=base_model.input, outputs=predictions)\n",
    "\n",
    "    learning_rate = hp.Choice('learning_rate', values=[1e-2, 1e-3, 1e-4])\n",
    "    model.compile(optimizer=Adam(learning_rate=learning_rate), \n",
    "                  loss='sparse_categorical_crossentropy', \n",
    "                  metrics=['accuracy'])\n",
    "    return model\n",
    "\n",
    "# List of pre-trained models to use\n",
    "pretrained_models = {\n",
    "    \"VGG16\": VGG16(weights='imagenet', include_top=False, input_shape=(img_height, img_width, 3)),\n",
    "    \"InceptionV3\": InceptionV3(weights='imagenet', include_top=False, input_shape=(img_height, img_width, 3)),\n",
    "    \"EfficientNetB0\": EfficientNetB0(weights='imagenet', include_top=False, input_shape=(img_height, img_width, 3))\n",
    "}\n",
    "\n",
    "fine_tuned_models = {}\n",
    "\n",
    "# Use a temporary directory for Keras Tuner\n",
    "temp_dir = tempfile.mkdtemp()\n",
    "\n",
    "try:\n",
    "    for model_name, base_model in pretrained_models.items():\n",
    "        print(f\"Tuning model: {model_name}\")\n",
    "\n",
    "        # Freeze the layers of the base model\n",
    "        for layer in base_model.layers:\n",
    "            layer.trainable = False\n",
    "\n",
    "        # Hypermodel function for Keras Tuner\n",
    "        def hypermodel(hp):\n",
    "            return build_model(hp, base_model)\n",
    "\n",
    "        tuner = kt.RandomSearch(\n",
    "            hypermodel,\n",
    "            objective='val_accuracy',\n",
    "            max_trials=1,\n",
    "            executions_per_trial=2,\n",
    "            directory=temp_dir,  # Use temporary directory\n",
    "            project_name=f'{model_name}_tuning'\n",
    "        )\n",
    "\n",
    "        tuner.search_space_summary()\n",
    "\n",
    "        # Perform hyperparameter search\n",
    "        tuner.search(train_generator,\n",
    "                     epochs=1,\n",
    "                     validation_data=val_generator,\n",
    "                     callbacks=[EarlyStopping(monitor='val_loss', patience=5)])\n",
    "\n",
    "        # Get the optimal hyperparameters and best model\n",
    "        best_hp = tuner.get_best_hyperparameters(num_trials=1)[0]\n",
    "        best_model = tuner.hypermodel.build(best_hp)\n",
    "\n",
    "        # Unfreeze some of the top layers for fine-tuning\n",
    "        for layer in best_model.layers[-4:]:\n",
    "            layer.trainable = True\n",
    "\n",
    "        # Compile the model with a lower learning rate\n",
    "        best_model.compile(optimizer=Adam(learning_rate=best_hp.get('learning_rate')), \n",
    "                           loss='sparse_categorical_crossentropy', metrics=['accuracy'])\n",
    "\n",
    "        # Train the model with fine-tuning\n",
    "        best_model.fit(\n",
    "            train_generator,\n",
    "            epochs=1,\n",
    "            validation_data=val_generator,\n",
    "            callbacks=[\n",
    "                EarlyStopping(monitor='val_loss', patience=5, restore_best_weights=True),\n",
    "                ReduceLROnPlateau(monitor='val_loss', factor=0.2, patience=3, min_lr=1e-5)\n",
    "            ]\n",
    "        )\n",
    "\n",
    "        # Evaluate the model on the test set\n",
    "        test_loss, test_acc = best_model.evaluate(test_generator)\n",
    "        print(f\"Fine-tuned {model_name} Test Accuracy: {test_acc:.4f}\")\n",
    "\n",
    "        fine_tuned_models[model_name] = best_model\n",
    "finally:\n",
    "    # Clean up temporary directory\n",
    "    shutil.rmtree(temp_dir)"
   ]
  },
  {
   "cell_type": "code",
   "execution_count": 17,
   "id": "b54895e4",
   "metadata": {
    "execution": {
     "iopub.execute_input": "2024-08-10T22:12:57.808031Z",
     "iopub.status.busy": "2024-08-10T22:12:57.807089Z",
     "iopub.status.idle": "2024-08-10T22:12:59.615990Z",
     "shell.execute_reply": "2024-08-10T22:12:59.614806Z"
    },
    "papermill": {
     "duration": 1.837849,
     "end_time": "2024-08-10T22:12:59.618503",
     "exception": false,
     "start_time": "2024-08-10T22:12:57.780654",
     "status": "completed"
    },
    "tags": []
   },
   "outputs": [
    {
     "name": "stdout",
     "output_type": "stream",
     "text": [
      "Fine-tuned models saved as 'fine_tuned_models.pkl'\n"
     ]
    }
   ],
   "source": [
    "import pickle\n",
    "\n",
    "# Save the fine-tuned models dictionary to a pickle file\n",
    "with open('fine_tuned_models.pkl', 'wb') as f:\n",
    "    pickle.dump(fine_tuned_models, f)\n",
    "\n",
    "print(\"Fine-tuned models saved as 'fine_tuned_models.pkl'\")"
   ]
  },
  {
   "cell_type": "code",
   "execution_count": 18,
   "id": "b4691efd",
   "metadata": {
    "execution": {
     "iopub.execute_input": "2024-08-10T22:12:59.669266Z",
     "iopub.status.busy": "2024-08-10T22:12:59.668885Z",
     "iopub.status.idle": "2024-08-10T22:13:56.997334Z",
     "shell.execute_reply": "2024-08-10T22:13:56.993884Z"
    },
    "papermill": {
     "duration": 57.36103,
     "end_time": "2024-08-10T22:13:57.003994",
     "exception": false,
     "start_time": "2024-08-10T22:12:59.642964",
     "status": "completed"
    },
    "tags": []
   },
   "outputs": [
    {
     "name": "stdout",
     "output_type": "stream",
     "text": [
      "\u001b[1m 2/41\u001b[0m \u001b[37m━━━━━━━━━━━━━━━━━━━━\u001b[0m \u001b[1m5s\u001b[0m 153ms/step "
     ]
    },
    {
     "name": "stderr",
     "output_type": "stream",
     "text": [
      "W0000 00:00:1723327982.345000      91 graph_launch.cc:671] Fallback to op-by-op mode because memset node breaks graph update\n"
     ]
    },
    {
     "name": "stdout",
     "output_type": "stream",
     "text": [
      "\u001b[1m41/41\u001b[0m \u001b[32m━━━━━━━━━━━━━━━━━━━━\u001b[0m\u001b[37m\u001b[0m \u001b[1m6s\u001b[0m 129ms/step\n"
     ]
    },
    {
     "name": "stderr",
     "output_type": "stream",
     "text": [
      "W0000 00:00:1723327987.515400      91 graph_launch.cc:671] Fallback to op-by-op mode because memset node breaks graph update\n"
     ]
    },
    {
     "name": "stdout",
     "output_type": "stream",
     "text": [
      "VGG16 Confusion Matrix:\n",
      "[[247  32  10  11]\n",
      " [ 72  99  57  78]\n",
      " [ 18   5 378   4]\n",
      " [ 11   0  11 278]]\n",
      "VGG16 Classification Report:\n",
      "              precision    recall  f1-score   support\n",
      "\n",
      "      glioma       0.71      0.82      0.76       300\n",
      "  meningioma       0.73      0.32      0.45       306\n",
      "     notumor       0.83      0.93      0.88       405\n",
      "   pituitary       0.75      0.93      0.83       300\n",
      "\n",
      "    accuracy                           0.76      1311\n",
      "   macro avg       0.75      0.75      0.73      1311\n",
      "weighted avg       0.76      0.76      0.74      1311\n",
      "\n",
      "\u001b[1m41/41\u001b[0m \u001b[32m━━━━━━━━━━━━━━━━━━━━\u001b[0m\u001b[37m\u001b[0m \u001b[1m5s\u001b[0m 118ms/step - accuracy: 0.7121 - loss: 0.7751\n",
      "VGG16 Test Accuracy: 0.7643\n",
      "\u001b[1m 4/41\u001b[0m \u001b[32m━\u001b[0m\u001b[37m━━━━━━━━━━━━━━━━━━━\u001b[0m \u001b[1m2s\u001b[0m 66ms/step"
     ]
    },
    {
     "name": "stderr",
     "output_type": "stream",
     "text": [
      "W0000 00:00:1723328003.157159      93 graph_launch.cc:671] Fallback to op-by-op mode because memset node breaks graph update\n"
     ]
    },
    {
     "name": "stdout",
     "output_type": "stream",
     "text": [
      "\u001b[1m41/41\u001b[0m \u001b[32m━━━━━━━━━━━━━━━━━━━━\u001b[0m\u001b[37m\u001b[0m \u001b[1m15s\u001b[0m 220ms/step\n"
     ]
    },
    {
     "name": "stderr",
     "output_type": "stream",
     "text": [
      "W0000 00:00:1723328011.954231      92 graph_launch.cc:671] Fallback to op-by-op mode because memset node breaks graph update\n"
     ]
    },
    {
     "name": "stdout",
     "output_type": "stream",
     "text": [
      "InceptionV3 Confusion Matrix:\n",
      "[[245  23  15  17]\n",
      " [ 73  92  67  74]\n",
      " [ 13   8 378   6]\n",
      " [  8   6   7 279]]\n",
      "InceptionV3 Classification Report:\n",
      "              precision    recall  f1-score   support\n",
      "\n",
      "      glioma       0.72      0.82      0.77       300\n",
      "  meningioma       0.71      0.30      0.42       306\n",
      "     notumor       0.81      0.93      0.87       405\n",
      "   pituitary       0.74      0.93      0.83       300\n",
      "\n",
      "    accuracy                           0.76      1311\n",
      "   macro avg       0.75      0.75      0.72      1311\n",
      "weighted avg       0.75      0.76      0.73      1311\n",
      "\n",
      "\u001b[1m41/41\u001b[0m \u001b[32m━━━━━━━━━━━━━━━━━━━━\u001b[0m\u001b[37m\u001b[0m \u001b[1m3s\u001b[0m 64ms/step - accuracy: 0.7054 - loss: 0.7171\n",
      "InceptionV3 Test Accuracy: 0.7582\n",
      "\u001b[1m 5/41\u001b[0m \u001b[32m━━\u001b[0m\u001b[37m━━━━━━━━━━━━━━━━━━\u001b[0m \u001b[1m1s\u001b[0m 38ms/step"
     ]
    },
    {
     "name": "stderr",
     "output_type": "stream",
     "text": [
      "W0000 00:00:1723328025.496368      93 graph_launch.cc:671] Fallback to op-by-op mode because memset node breaks graph update\n"
     ]
    },
    {
     "name": "stdout",
     "output_type": "stream",
     "text": [
      "\u001b[1m41/41\u001b[0m \u001b[32m━━━━━━━━━━━━━━━━━━━━\u001b[0m\u001b[37m\u001b[0m \u001b[1m14s\u001b[0m 194ms/step\n"
     ]
    },
    {
     "name": "stderr",
     "output_type": "stream",
     "text": [
      "W0000 00:00:1723328033.259056      92 graph_launch.cc:671] Fallback to op-by-op mode because memset node breaks graph update\n"
     ]
    },
    {
     "name": "stdout",
     "output_type": "stream",
     "text": [
      "EfficientNetB0 Confusion Matrix:\n",
      "[[  0   0 300   0]\n",
      " [  0   0 306   0]\n",
      " [  0   0 405   0]\n",
      " [  0   0 300   0]]\n",
      "EfficientNetB0 Classification Report:\n",
      "              precision    recall  f1-score   support\n",
      "\n",
      "      glioma       0.00      0.00      0.00       300\n",
      "  meningioma       0.00      0.00      0.00       306\n",
      "     notumor       0.31      1.00      0.47       405\n",
      "   pituitary       0.00      0.00      0.00       300\n",
      "\n",
      "    accuracy                           0.31      1311\n",
      "   macro avg       0.08      0.25      0.12      1311\n",
      "weighted avg       0.10      0.31      0.15      1311\n",
      "\n",
      "\u001b[1m41/41\u001b[0m \u001b[32m━━━━━━━━━━━━━━━━━━━━\u001b[0m\u001b[37m\u001b[0m \u001b[1m2s\u001b[0m 40ms/step - accuracy: 0.1600 - loss: 1.4071\n",
      "EfficientNetB0 Test Accuracy: 0.3089\n"
     ]
    }
   ],
   "source": [
    "from sklearn.metrics import classification_report, confusion_matrix\n",
    "import numpy as np\n",
    "\n",
    "# Track true labels separately\n",
    "true_classes = test_labels\n",
    "\n",
    "# Get the names of the classes\n",
    "class_labels = class_names\n",
    "\n",
    "# Evaluate each fine-tuned model individually and print the classification report\n",
    "for model_name, model in fine_tuned_models.items():\n",
    "    # Use the model to predict the labels for the test data\n",
    "    predictions = model.predict(test_images)\n",
    "    predicted_classes = np.argmax(predictions, axis=1)\n",
    "\n",
    "    # Calculate confusion matrix\n",
    "    cm = confusion_matrix(true_classes, predicted_classes)\n",
    "    print(f\"{model_name} Confusion Matrix:\")\n",
    "    print(cm)\n",
    "\n",
    "    # Generate and print classification report\n",
    "    report = classification_report(true_classes, predicted_classes, target_names=class_labels)\n",
    "    print(f\"{model_name} Classification Report:\")\n",
    "    print(report)\n",
    "\n",
    "    # Evaluate the model on the test data\n",
    "    test_loss, test_acc = model.evaluate(test_images, test_labels)\n",
    "    print(f\"{model_name} Test Accuracy: {test_acc:.4f}\")"
   ]
  },
  {
   "cell_type": "code",
   "execution_count": 19,
   "id": "95e51afc",
   "metadata": {
    "execution": {
     "iopub.execute_input": "2024-08-10T22:13:57.105574Z",
     "iopub.status.busy": "2024-08-10T22:13:57.104762Z",
     "iopub.status.idle": "2024-08-10T22:14:32.959406Z",
     "shell.execute_reply": "2024-08-10T22:14:32.958340Z"
    },
    "papermill": {
     "duration": 35.932552,
     "end_time": "2024-08-10T22:14:32.991782",
     "exception": false,
     "start_time": "2024-08-10T22:13:57.059230",
     "status": "completed"
    },
    "tags": []
   },
   "outputs": [
    {
     "name": "stdout",
     "output_type": "stream",
     "text": [
      "Evaluating model: VGG16\n",
      "\u001b[1m 2/41\u001b[0m \u001b[37m━━━━━━━━━━━━━━━━━━━━\u001b[0m \u001b[1m3s\u001b[0m 100ms/step "
     ]
    },
    {
     "name": "stderr",
     "output_type": "stream",
     "text": [
      "W0000 00:00:1723328037.948214      93 graph_launch.cc:671] Fallback to op-by-op mode because memset node breaks graph update\n"
     ]
    },
    {
     "name": "stdout",
     "output_type": "stream",
     "text": [
      "\u001b[1m41/41\u001b[0m \u001b[32m━━━━━━━━━━━━━━━━━━━━\u001b[0m\u001b[37m\u001b[0m \u001b[1m6s\u001b[0m 128ms/step\n"
     ]
    },
    {
     "name": "stderr",
     "output_type": "stream",
     "text": [
      "W0000 00:00:1723328043.084830      92 graph_launch.cc:671] Fallback to op-by-op mode because memset node breaks graph update\n"
     ]
    },
    {
     "name": "stdout",
     "output_type": "stream",
     "text": [
      "An error occurred while evaluating VGG16: 'NumpyArrayIterator' object has no attribute 'labels'\n",
      "Evaluating model: InceptionV3\n",
      "\u001b[1m 3/41\u001b[0m \u001b[32m━\u001b[0m\u001b[37m━━━━━━━━━━━━━━━━━━━\u001b[0m \u001b[1m2s\u001b[0m 76ms/step"
     ]
    },
    {
     "name": "stderr",
     "output_type": "stream",
     "text": [
      "W0000 00:00:1723328049.909775      93 graph_launch.cc:671] Fallback to op-by-op mode because memset node breaks graph update\n"
     ]
    },
    {
     "name": "stdout",
     "output_type": "stream",
     "text": [
      "\u001b[1m41/41\u001b[0m \u001b[32m━━━━━━━━━━━━━━━━━━━━\u001b[0m\u001b[37m\u001b[0m \u001b[1m15s\u001b[0m 220ms/step\n"
     ]
    },
    {
     "name": "stderr",
     "output_type": "stream",
     "text": [
      "W0000 00:00:1723328058.709091      94 graph_launch.cc:671] Fallback to op-by-op mode because memset node breaks graph update\n"
     ]
    },
    {
     "name": "stdout",
     "output_type": "stream",
     "text": [
      "An error occurred while evaluating InceptionV3: 'NumpyArrayIterator' object has no attribute 'labels'\n",
      "Evaluating model: EfficientNetB0\n",
      "\u001b[1m 5/41\u001b[0m \u001b[32m━━\u001b[0m\u001b[37m━━━━━━━━━━━━━━━━━━\u001b[0m \u001b[1m1s\u001b[0m 40ms/step"
     ]
    },
    {
     "name": "stderr",
     "output_type": "stream",
     "text": [
      "W0000 00:00:1723328065.121650      92 graph_launch.cc:671] Fallback to op-by-op mode because memset node breaks graph update\n"
     ]
    },
    {
     "name": "stdout",
     "output_type": "stream",
     "text": [
      "\u001b[1m41/41\u001b[0m \u001b[32m━━━━━━━━━━━━━━━━━━━━\u001b[0m\u001b[37m\u001b[0m \u001b[1m14s\u001b[0m 195ms/step\n",
      "An error occurred while evaluating EfficientNetB0: 'NumpyArrayIterator' object has no attribute 'labels'\n"
     ]
    },
    {
     "name": "stderr",
     "output_type": "stream",
     "text": [
      "W0000 00:00:1723328072.928232      94 graph_launch.cc:671] Fallback to op-by-op mode because memset node breaks graph update\n"
     ]
    }
   ],
   "source": [
    "from sklearn.metrics import classification_report, confusion_matrix\n",
    "import numpy as np\n",
    "import seaborn as sns\n",
    "import matplotlib.pyplot as plt\n",
    "\n",
    "# Function to plot confusion matrix\n",
    "def plot_confusion_matrix(cm, class_names, model_name):\n",
    "    plt.figure(figsize=(10, 7))\n",
    "    sns.heatmap(cm, annot=True, fmt='d', cmap='Blues', xticklabels=class_names, yticklabels=class_names)\n",
    "    plt.title(f'Confusion Matrix for {model_name}')\n",
    "    plt.xlabel('Predicted')\n",
    "    plt.ylabel('True')\n",
    "    plt.show()\n",
    "\n",
    "# Evaluate each fine-tuned model individually and print the classification report and plot confusion matrix\n",
    "for model_name, model in fine_tuned_models.items():\n",
    "    print(f\"Evaluating model: {model_name}\")\n",
    "    \n",
    "    try:\n",
    "        # Use the model to predict the labels for the test data\n",
    "        predictions = model.predict(test_generator)\n",
    "        predicted_classes = np.argmax(predictions, axis=1)\n",
    "\n",
    "        # Get the true labels (ensure your test_generator has shuffle=False)\n",
    "        true_classes = test_generator.labels\n",
    "\n",
    "        # Get the names of the classes\n",
    "        class_labels = list(test_generator.class_indices.keys())\n",
    "\n",
    "        # Calculate confusion matrix\n",
    "        cm = confusion_matrix(true_classes, predicted_classes)\n",
    "        print(f\"{model_name} Confusion Matrix:\")\n",
    "        print(cm)\n",
    "\n",
    "        # Plot confusion matrix\n",
    "        plot_confusion_matrix(cm, class_labels, model_name)\n",
    "\n",
    "        # Generate and print classification report\n",
    "        report = classification_report(true_classes, predicted_classes, target_names=class_labels)\n",
    "        print(f\"{model_name} Classification Report:\")\n",
    "        print(report)\n",
    "\n",
    "        # Evaluate the model on the test data\n",
    "        test_loss, test_acc = model.evaluate(test_generator)\n",
    "        print(f\"{model_name} Test Accuracy: {test_acc:.4f}\")\n",
    "    \n",
    "    except Exception as e:\n",
    "        print(f\"An error occurred while evaluating {model_name}: {e}\")"
   ]
  },
  {
   "cell_type": "code",
   "execution_count": 20,
   "id": "1c9b2a0f",
   "metadata": {
    "execution": {
     "iopub.execute_input": "2024-08-10T22:14:33.100053Z",
     "iopub.status.busy": "2024-08-10T22:14:33.099235Z",
     "iopub.status.idle": "2024-08-10T22:15:22.818357Z",
     "shell.execute_reply": "2024-08-10T22:15:22.817233Z"
    },
    "papermill": {
     "duration": 49.775983,
     "end_time": "2024-08-10T22:15:22.820647",
     "exception": false,
     "start_time": "2024-08-10T22:14:33.044664",
     "status": "completed"
    },
    "tags": []
   },
   "outputs": [
    {
     "name": "stdout",
     "output_type": "stream",
     "text": [
      "\u001b[1m 2/41\u001b[0m \u001b[37m━━━━━━━━━━━━━━━━━━━━\u001b[0m \u001b[1m5s\u001b[0m 153ms/step "
     ]
    },
    {
     "name": "stderr",
     "output_type": "stream",
     "text": [
      "W0000 00:00:1723328089.490287      93 graph_launch.cc:671] Fallback to op-by-op mode because memset node breaks graph update\n"
     ]
    },
    {
     "name": "stdout",
     "output_type": "stream",
     "text": [
      "\u001b[1m41/41\u001b[0m \u001b[32m━━━━━━━━━━━━━━━━━━━━\u001b[0m\u001b[37m\u001b[0m \u001b[1m6s\u001b[0m 126ms/step\n"
     ]
    },
    {
     "name": "stderr",
     "output_type": "stream",
     "text": [
      "W0000 00:00:1723328094.528169      92 graph_launch.cc:671] Fallback to op-by-op mode because memset node breaks graph update\n"
     ]
    },
    {
     "name": "stdout",
     "output_type": "stream",
     "text": [
      "\u001b[1m 3/41\u001b[0m \u001b[32m━\u001b[0m\u001b[37m━━━━━━━━━━━━━━━━━━━\u001b[0m \u001b[1m2s\u001b[0m 76ms/step"
     ]
    },
    {
     "name": "stderr",
     "output_type": "stream",
     "text": [
      "W0000 00:00:1723328101.485342      92 graph_launch.cc:671] Fallback to op-by-op mode because memset node breaks graph update\n"
     ]
    },
    {
     "name": "stdout",
     "output_type": "stream",
     "text": [
      "\u001b[1m41/41\u001b[0m \u001b[32m━━━━━━━━━━━━━━━━━━━━\u001b[0m\u001b[37m\u001b[0m \u001b[1m15s\u001b[0m 206ms/step\n"
     ]
    },
    {
     "name": "stderr",
     "output_type": "stream",
     "text": [
      "W0000 00:00:1723328109.710909      93 graph_launch.cc:671] Fallback to op-by-op mode because memset node breaks graph update\n"
     ]
    },
    {
     "name": "stdout",
     "output_type": "stream",
     "text": [
      "\u001b[1m 5/41\u001b[0m \u001b[32m━━\u001b[0m\u001b[37m━━━━━━━━━━━━━━━━━━\u001b[0m \u001b[1m1s\u001b[0m 37ms/step"
     ]
    },
    {
     "name": "stderr",
     "output_type": "stream",
     "text": [
      "W0000 00:00:1723328115.467264      91 graph_launch.cc:671] Fallback to op-by-op mode because memset node breaks graph update\n"
     ]
    },
    {
     "name": "stdout",
     "output_type": "stream",
     "text": [
      "\u001b[1m41/41\u001b[0m \u001b[32m━━━━━━━━━━━━━━━━━━━━\u001b[0m\u001b[37m\u001b[0m \u001b[1m13s\u001b[0m 174ms/step\n"
     ]
    },
    {
     "name": "stderr",
     "output_type": "stream",
     "text": [
      "W0000 00:00:1723328122.444180      94 graph_launch.cc:671] Fallback to op-by-op mode because memset node breaks graph update\n"
     ]
    },
    {
     "name": "stdout",
     "output_type": "stream",
     "text": [
      "Ensemble Test Accuracy: 0.7719\n",
      "Ensemble Confusion Matrix:\n",
      "[[249  24  13  14]\n",
      " [ 63  87  60  96]\n",
      " [ 12   3 386   4]\n",
      " [  5   1   4 290]]\n",
      "Ensemble Classification Report:\n",
      "              precision    recall  f1-score   support\n",
      "\n",
      "      glioma       0.76      0.83      0.79       300\n",
      "  meningioma       0.76      0.28      0.41       306\n",
      "     notumor       0.83      0.95      0.89       405\n",
      "   pituitary       0.72      0.97      0.82       300\n",
      "\n",
      "    accuracy                           0.77      1311\n",
      "   macro avg       0.77      0.76      0.73      1311\n",
      "weighted avg       0.77      0.77      0.74      1311\n",
      "\n"
     ]
    },
    {
     "data": {
      "image/png": "[encoded data removed]",
      "text/plain": [
       "<Figure size 1000x700 with 2 Axes>"
      ]
     },
     "metadata": {},
     "output_type": "display_data"
    }
   ],
   "source": [
    "import pickle\n",
    "import numpy as np\n",
    "from sklearn.metrics import classification_report, confusion_matrix\n",
    "import matplotlib.pyplot as plt\n",
    "import seaborn as sns\n",
    "\n",
    "# Function to plot confusion matrix\n",
    "def plot_confusion_matrix(cm, class_names, model_name):\n",
    "    plt.figure(figsize=(10, 7))\n",
    "    sns.heatmap(cm, annot=True, fmt='d', cmap='Blues', xticklabels=class_names, yticklabels=class_names)\n",
    "    plt.title(f'Confusion Matrix for {model_name}')\n",
    "    plt.xlabel('Predicted')\n",
    "    plt.ylabel('True')\n",
    "    plt.show()\n",
    "\n",
    "# Load the fine-tuned models from the pickle file\n",
    "with open('fine_tuned_models.pkl', 'rb') as f:\n",
    "    loaded_models = pickle.load(f)\n",
    "\n",
    "# Function to create ensemble predictions\n",
    "def create_ensemble(models, test_generator):\n",
    "    preds = [model.predict(test_generator) for model in models]\n",
    "    avg_preds = np.mean(preds, axis=0)\n",
    "    return avg_preds\n",
    "\n",
    "# Generate ensemble predictions\n",
    "ensemble_preds = create_ensemble(loaded_models.values(), test_generator)\n",
    "\n",
    "# Calculate ensemble accuracy\n",
    "ensemble_accuracy = np.mean(np.argmax(ensemble_preds, axis=1) == test_labels)\n",
    "print(f\"Ensemble Test Accuracy: {ensemble_accuracy:.4f}\")\n",
    "\n",
    "# Generate confusion matrix and classification report for the ensemble\n",
    "ensemble_predicted_classes = np.argmax(ensemble_preds, axis=1)\n",
    "ensemble_cm = confusion_matrix(test_labels, ensemble_predicted_classes)\n",
    "ensemble_report = classification_report(test_labels, ensemble_predicted_classes, target_names=class_names)\n",
    "\n",
    "print(\"Ensemble Confusion Matrix:\")\n",
    "print(ensemble_cm)\n",
    "print(\"Ensemble Classification Report:\")\n",
    "print(ensemble_report)\n",
    "\n",
    "# Visualize the confusion matrix\n",
    "plot_confusion_matrix(ensemble_cm, class_names, \"Ensemble Model\")"
   ]
  },
  {
   "cell_type": "code",
   "execution_count": 21,
   "id": "8a39ec09",
   "metadata": {
    "execution": {
     "iopub.execute_input": "2024-08-10T22:15:22.951385Z",
     "iopub.status.busy": "2024-08-10T22:15:22.950996Z",
     "iopub.status.idle": "2024-08-10T22:15:30.203071Z",
     "shell.execute_reply": "2024-08-10T22:15:30.201973Z"
    },
    "papermill": {
     "duration": 7.319449,
     "end_time": "2024-08-10T22:15:30.205507",
     "exception": false,
     "start_time": "2024-08-10T22:15:22.886058",
     "status": "completed"
    },
    "tags": []
   },
   "outputs": [
    {
     "name": "stdout",
     "output_type": "stream",
     "text": [
      "Trying SHAP DeepExplainer...\n",
      "SHAP DeepExplainer failed: 'tuple' object has no attribute 'as_list'\n",
      "Trying SHAP KernelExplainer...\n",
      "Provided model function fails when applied to the provided data set.\n",
      "SHAP KernelExplainer failed: as_list() is not defined on an unknown TensorShape.\n",
      "Failed to generate SHAP explanations with both DeepExplainer and KernelExplainer.\n"
     ]
    }
   ],
   "source": [
    "import shap\n",
    "import numpy as np\n",
    "\n",
    "# Load a single image from the test set and ensure it's in the correct format\n",
    "sample_image = test_images[0:1]\n",
    "\n",
    "# Ensure sample image has the correct shape (batch size, height, width, channels)\n",
    "if len(sample_image.shape) == 3:\n",
    "    sample_image = np.expand_dims(sample_image, axis=0)\n",
    "\n",
    "# Function to explain the model's predictions using SHAP\n",
    "def explain_model(model, sample_image, train_images):\n",
    "    shap_values = None\n",
    "\n",
    "    # Attempt to use DeepExplainer\n",
    "    try:\n",
    "        print(\"Trying SHAP DeepExplainer...\")\n",
    "        explainer = shap.DeepExplainer(model, train_images[:100])\n",
    "        shap_values = explainer.shap_values(sample_image)\n",
    "        print(\"SHAP DeepExplainer successful!\")\n",
    "    except Exception as e:\n",
    "        print(f\"SHAP DeepExplainer failed: {e}\")\n",
    "\n",
    "    # If DeepExplainer fails, try KernelExplainer\n",
    "    if shap_values is None:\n",
    "        try:\n",
    "            print(\"Trying SHAP KernelExplainer...\")\n",
    "            # Flatten the image and adjust for KernelExplainer input\n",
    "            sample_image_flat = sample_image.reshape((sample_image.shape[0], -1))\n",
    "            train_images_flat = train_images[:100].reshape((100, -1))\n",
    "            explainer = shap.KernelExplainer(model.predict, train_images_flat)\n",
    "            shap_values = explainer.shap_values(sample_image_flat)\n",
    "            print(\"SHAP KernelExplainer successful!\")\n",
    "        except Exception as e:\n",
    "            print(f\"SHAP KernelExplainer failed: {e}\")\n",
    "\n",
    "    # If SHAP explanations were successful, visualize them\n",
    "    if shap_values is not None:\n",
    "        shap.image_plot([shap_values], sample_image)\n",
    "    else:\n",
    "        print(\"Failed to generate SHAP explanations with both DeepExplainer and KernelExplainer.\")\n",
    "\n",
    "# Call the function to explain the model\n",
    "explain_model(model, sample_image, train_images)"
   ]
  }
 ],
 "metadata": {
  "kaggle": {
   "accelerator": "nvidiaTeslaT4",
   "dataSources": [
    {
     "datasetId": 1608934,
     "sourceId": 2645886,
     "sourceType": "datasetVersion"
    }
   ],
   "dockerImageVersionId": 30732,
   "isGpuEnabled": true,
   "isInternetEnabled": true,
   "language": "python",
   "sourceType": "notebook"
  },
  "kernelspec": {
   "display_name": "Python 3",
   "language": "python",
   "name": "python3"
  },
  "language_info": {
   "codemirror_mode": {
    "name": "ipython",
    "version": 3
   },
   "file_extension": ".py",
   "mimetype": "text/x-python",
   "name": "python",
   "nbconvert_exporter": "python",
   "pygments_lexer": "ipython3",
   "version": "3.10.13"
  },
  "papermill": {
   "default_parameters": {},
   "duration": 1273.988555,
   "end_time": "2024-08-10T22:15:34.271836",
   "environment_variables": {},
   "exception": null,
   "input_path": "__notebook__.ipynb",
   "output_path": "__notebook__.ipynb",
   "parameters": {},
   "start_time": "2024-08-10T21:54:20.283281",
   "version": "2.5.0"
  }
 },
 "nbformat": 4,
 "nbformat_minor": 5
}
