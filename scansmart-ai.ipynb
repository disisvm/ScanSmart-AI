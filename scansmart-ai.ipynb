{
 "cells": [
  {
   "cell_type": "markdown",
   "id": "4c99b68b",
   "metadata": {
    "papermill": {
     "duration": 0.00999,
     "end_time": "2024-08-10T22:36:50.198107",
     "exception": false,
     "start_time": "2024-08-10T22:36:50.188117",
     "status": "completed"
    },
    "tags": []
   },
   "source": [
    "# ScanSmart AI\n",
    "\n",
    "## Introduction\n",
    "\n",
    "This project focuses on developing, fine-tuning, and interpreting deep learning models for the classification of brain tumor images using MRI scans. The primary goal is to accurately classify MRI images into distinct categories such as glioma, meningioma, notumor, and pituitary, leveraging state-of-the-art transfer learning techniques and hyperparameter tuning.\n",
    "\n",
    "The workflow begins with the preparation of the dataset, including loading, resizing, and augmenting images. Pre-trained models like VGG16, InceptionV3, and EfficientNetB0 are employed as base models, which are further fine-tuned to improve classification performance on the brain tumor dataset. The project also incorporates advanced techniques such as ensemble modeling to combine the strengths of individual models.\n",
    "\n",
    "To ensure the robustness and reliability of the models, comprehensive evaluation metrics, including confusion matrices and classification reports, are generated. Additionally, SHAP (SHapley Additive exPlanations) is utilized to interpret the model's predictions, providing insights into how the model makes decisions and enhancing the transparency of the machine learning process.\n",
    "\n",
    "Overall, this project aims to build a highly accurate and interpretable deep learning solution for brain tumor classification, with potential applications in medical diagnosis and research.\n"
   ]
  },
  {
   "cell_type": "markdown",
   "id": "1d04eaa8",
   "metadata": {
    "papermill": {
     "duration": 0.008842,
     "end_time": "2024-08-10T22:36:50.216079",
     "exception": false,
     "start_time": "2024-08-10T22:36:50.207237",
     "status": "completed"
    },
    "tags": []
   },
   "source": [
    "### Importing Necessary Libraries for Image Classification\n",
    "\n",
    "This code imports a variety of essential libraries and modules needed for building, training, and evaluating an image classification model using TensorFlow and Keras. Below is a breakdown of the imports and their purposes:\n",
    "\n",
    "- **Basic Libraries**:\n",
    "  - **`os`**: Used for interacting with the operating system, such as handling file paths.\n",
    "  - **`PIL.Image`**: The Python Imaging Library (PIL) is used for opening, manipulating, and saving images.\n",
    "  - **`numpy as np`**: A fundamental package for numerical computations in Python, used here for handling arrays and image data.\n",
    "  - **`pandas as pd`**: A powerful data manipulation library, though not directly used in this snippet, it might be used for handling datasets.\n",
    "  - **`matplotlib.pyplot as plt`**: A plotting library used for creating static, animated, and interactive visualizations.\n",
    "  - **`seaborn as sns`**: Built on top of Matplotlib, Seaborn provides a high-level interface for creating attractive and informative statistical graphics.\n",
    "  - **`glob`**: Used to retrieve files/pathnames matching a specified pattern.\n",
    "\n",
    "- **Scikit-learn for Model Evaluation**:\n",
    "  - **`train_test_split`**: Splits the dataset into training and testing sets.\n",
    "  - **`classification_report`, `confusion_matrix`**: Tools for evaluating the performance of a classification model.\n",
    "\n",
    "- **TensorFlow and Keras for Deep Learning**:\n",
    "  - **`tensorflow as tf`**: TensorFlow is an end-to-end open-source platform for machine learning.\n",
    "  - **`Sequential`**: A Keras model class used to define a linear stack of layers.\n",
    "  - **`Dense`, `Dropout`, `Flatten`**: Common Keras layers used to build a neural network. `Dense` layers are fully connected layers, `Dropout` is used for regularization, and `Flatten` reshapes the input.\n",
    "  - **`Adamax`**: An optimizer from the Adam family, used to minimize the loss function.\n",
    "  - **`Precision`, `Recall`**: Metrics used to evaluate the performance of the model.\n",
    "  - **`ImageDataGenerator`**: A Keras utility that allows for real-time data augmentation.\n",
    "  - **`load_img`, `img_to_array`**: Utilities for loading and converting images to arrays.\n",
    "  - **`image_dataset_from_directory`**: Used for loading images directly from directories into a format suitable for training a model.\n",
    "  - **`resize`**: Used to resize images to a consistent shape.\n",
    "\n",
    "- **Pre-trained Models and Custom Layers**:\n",
    "  - **`VGG16`, `ResNet50`, `InceptionV3`, `EfficientNetB0`**: Popular pre-trained models from Keras, used for transfer learning in image classification tasks.\n",
    "  - **`GlobalAveragePooling2D`**: A pooling layer often used after convolutional layers to reduce the spatial dimensions of the feature maps.\n",
    "  - **`Model`, `load_model`**: Keras functions for creating and loading models.\n",
    "  \n",
    "- **Callbacks for Model Training**:\n",
    "  - **`ModelCheckpoint`**: Saves the model after every epoch if it's performing better.\n",
    "  - **`EarlyStopping`**: Stops training early if the model stops improving.\n",
    "  - **`ReduceLROnPlateau`**: Reduces the learning rate when the metric has stopped improving, to allow the model to converge more effectively.\n",
    "\n",
    "- **Warnings**:\n",
    "  - **`warnings.filterwarnings(\"ignore\")`**: Suppresses warnings, typically used to clean up the output during model training.\n",
    "\n",
    "### Summary\n",
    "\n",
    "This code sets up the necessary environment for building a deep learning image classification model. It imports tools for data preprocessing, model creation, training, evaluation, and more. The combination of TensorFlow, Keras, and various Python libraries allows for efficient handling of large-scale image data and the creation of powerful predictive models."
   ]
  },
  {
   "cell_type": "code",
   "execution_count": 1,
   "id": "fc58ff13",
   "metadata": {
    "execution": {
     "iopub.execute_input": "2024-08-10T22:36:50.236042Z",
     "iopub.status.busy": "2024-08-10T22:36:50.235678Z",
     "iopub.status.idle": "2024-08-10T22:37:03.903779Z",
     "shell.execute_reply": "2024-08-10T22:37:03.902973Z"
    },
    "papermill": {
     "duration": 13.680836,
     "end_time": "2024-08-10T22:37:03.906055",
     "exception": false,
     "start_time": "2024-08-10T22:36:50.225219",
     "status": "completed"
    },
    "tags": []
   },
   "outputs": [
    {
     "name": "stderr",
     "output_type": "stream",
     "text": [
      "2024-08-10 22:36:54.084686: E external/local_xla/xla/stream_executor/cuda/cuda_dnn.cc:9261] Unable to register cuDNN factory: Attempting to register factory for plugin cuDNN when one has already been registered\n",
      "2024-08-10 22:36:54.084801: E external/local_xla/xla/stream_executor/cuda/cuda_fft.cc:607] Unable to register cuFFT factory: Attempting to register factory for plugin cuFFT when one has already been registered\n",
      "2024-08-10 22:36:54.216673: E external/local_xla/xla/stream_executor/cuda/cuda_blas.cc:1515] Unable to register cuBLAS factory: Attempting to register factory for plugin cuBLAS when one has already been registered\n"
     ]
    }
   ],
   "source": [
    "import os\n",
    "from PIL import Image\n",
    "import numpy as np\n",
    "import pandas as pd\n",
    "import matplotlib.pyplot as plt\n",
    "import seaborn as sns\n",
    "from glob import glob\n",
    "#---------------------------------------\n",
    "from sklearn.model_selection import train_test_split\n",
    "from sklearn.metrics import classification_report, confusion_matrix\n",
    "#---------------------------------------\n",
    "import tensorflow as tf\n",
    "from tensorflow.keras.models import Sequential\n",
    "from tensorflow.keras.layers import Dense, Dropout, Flatten\n",
    "from tensorflow.keras.optimizers import Adamax\n",
    "from tensorflow.keras.metrics import Precision, Recall\n",
    "from tensorflow.keras.preprocessing.image import ImageDataGenerator\n",
    "from tensorflow.keras.preprocessing.image import load_img, img_to_array\n",
    "from tensorflow.keras.preprocessing import image_dataset_from_directory\n",
    "from tensorflow.image import resize\n",
    "#---------------------------------------\n",
    "from tensorflow.keras.applications import VGG16, ResNet50, InceptionV3, EfficientNetB0\n",
    "from tensorflow.keras.layers import Dense, GlobalAveragePooling2D\n",
    "from tensorflow.keras.models import Model, load_model\n",
    "from tensorflow.keras.callbacks import ModelCheckpoint, EarlyStopping, ReduceLROnPlateau\n",
    "#---------------------------------------\n",
    "import warnings\n",
    "warnings.filterwarnings(\"ignore\")"
   ]
  },
  {
   "cell_type": "markdown",
   "id": "24f42560",
   "metadata": {
    "papermill": {
     "duration": 0.008949,
     "end_time": "2024-08-10T22:37:03.924559",
     "exception": false,
     "start_time": "2024-08-10T22:37:03.915610",
     "status": "completed"
    },
    "tags": []
   },
   "source": [
    "### Function to Create Training DataFrame\n",
    "\n",
    "- **`train_df(tr_path)`**: This function generates a pandas DataFrame containing image file paths and their corresponding class labels from a specified directory structure.\n",
    "  \n",
    "- **Process**:\n",
    "  - Iterates through subdirectories (each representing a class) in the given path.\n",
    "  - Collects file paths and associated class labels.\n",
    "\n",
    "- **Output**:\n",
    "  - Returns a DataFrame with two columns: `Class Path` (image file paths) and `Class` (labels).\n",
    "\n",
    "### Summary\n",
    "\n",
    "This function simplifies the process of organizing training data by creating a structured DataFrame from a directory of labeled images."
   ]
  },
  {
   "cell_type": "code",
   "execution_count": 2,
   "id": "30def45f",
   "metadata": {
    "execution": {
     "iopub.execute_input": "2024-08-10T22:37:03.944299Z",
     "iopub.status.busy": "2024-08-10T22:37:03.943699Z",
     "iopub.status.idle": "2024-08-10T22:37:03.949614Z",
     "shell.execute_reply": "2024-08-10T22:37:03.948791Z"
    },
    "papermill": {
     "duration": 0.017846,
     "end_time": "2024-08-10T22:37:03.951466",
     "exception": false,
     "start_time": "2024-08-10T22:37:03.933620",
     "status": "completed"
    },
    "tags": []
   },
   "outputs": [],
   "source": [
    "def train_df(tr_path):\n",
    "    classes, class_paths = zip(*[(label, os.path.join(tr_path, label, image))\n",
    "                                 for label in os.listdir(tr_path) if os.path.isdir(os.path.join(tr_path, label))\n",
    "                                 for image in os.listdir(os.path.join(tr_path, label))])\n",
    "\n",
    "    tr_df = pd.DataFrame({'Class Path': class_paths, 'Class': classes})\n",
    "    return tr_df"
   ]
  },
  {
   "cell_type": "markdown",
   "id": "20456a93",
   "metadata": {
    "papermill": {
     "duration": 0.008942,
     "end_time": "2024-08-10T22:37:03.969573",
     "exception": false,
     "start_time": "2024-08-10T22:37:03.960631",
     "status": "completed"
    },
    "tags": []
   },
   "source": [
    "### Function to Create Testing DataFrame\n",
    "\n",
    "- **`test_df(ts_path)`**: This function generates a pandas DataFrame containing image file paths and their corresponding class labels from a specified directory structure for testing data.\n",
    "\n",
    "- **Process**:\n",
    "  - Iterates through subdirectories (each representing a class) in the provided test data path.\n",
    "  - Collects file paths and associated class labels.\n",
    "\n",
    "- **Output**:\n",
    "  - Returns a DataFrame with two columns: `Class Path` (image file paths) and `Class` (labels).\n",
    "\n",
    "### Summary\n",
    "\n",
    "This function organizes testing data into a structured DataFrame, similar to the training data, facilitating easy processing and evaluation of the model's performance."
   ]
  },
  {
   "cell_type": "code",
   "execution_count": 3,
   "id": "e6c805a1",
   "metadata": {
    "execution": {
     "iopub.execute_input": "2024-08-10T22:37:03.990193Z",
     "iopub.status.busy": "2024-08-10T22:37:03.989594Z",
     "iopub.status.idle": "2024-08-10T22:37:03.995319Z",
     "shell.execute_reply": "2024-08-10T22:37:03.994461Z"
    },
    "papermill": {
     "duration": 0.01783,
     "end_time": "2024-08-10T22:37:03.997346",
     "exception": false,
     "start_time": "2024-08-10T22:37:03.979516",
     "status": "completed"
    },
    "tags": []
   },
   "outputs": [],
   "source": [
    "def test_df(ts_path):\n",
    "    classes, class_paths = zip(*[(label, os.path.join(ts_path, label, image))\n",
    "                                 for label in os.listdir(ts_path) if os.path.isdir(os.path.join(ts_path, label))\n",
    "                                 for image in os.listdir(os.path.join(ts_path, label))])\n",
    "\n",
    "    ts_df = pd.DataFrame({'Class Path': class_paths, 'Class': classes})\n",
    "    return ts_df"
   ]
  },
  {
   "cell_type": "code",
   "execution_count": 4,
   "id": "06931cae",
   "metadata": {
    "execution": {
     "iopub.execute_input": "2024-08-10T22:37:04.016766Z",
     "iopub.status.busy": "2024-08-10T22:37:04.016221Z",
     "iopub.status.idle": "2024-08-10T22:37:04.687548Z",
     "shell.execute_reply": "2024-08-10T22:37:04.686616Z"
    },
    "papermill": {
     "duration": 0.683352,
     "end_time": "2024-08-10T22:37:04.689769",
     "exception": false,
     "start_time": "2024-08-10T22:37:04.006417",
     "status": "completed"
    },
    "tags": []
   },
   "outputs": [
    {
     "data": {
      "text/html": [
       "<div>\n",
       "<style scoped>\n",
       "    .dataframe tbody tr th:only-of-type {\n",
       "        vertical-align: middle;\n",
       "    }\n",
       "\n",
       "    .dataframe tbody tr th {\n",
       "        vertical-align: top;\n",
       "    }\n",
       "\n",
       "    .dataframe thead th {\n",
       "        text-align: right;\n",
       "    }\n",
       "</style>\n",
       "<table border=\"1\" class=\"dataframe\">\n",
       "  <thead>\n",
       "    <tr style=\"text-align: right;\">\n",
       "      <th></th>\n",
       "      <th>Class Path</th>\n",
       "      <th>Class</th>\n",
       "    </tr>\n",
       "  </thead>\n",
       "  <tbody>\n",
       "    <tr>\n",
       "      <th>0</th>\n",
       "      <td>/kaggle/input/brain-tumor-mri-dataset/Training...</td>\n",
       "      <td>pituitary</td>\n",
       "    </tr>\n",
       "    <tr>\n",
       "      <th>1</th>\n",
       "      <td>/kaggle/input/brain-tumor-mri-dataset/Training...</td>\n",
       "      <td>pituitary</td>\n",
       "    </tr>\n",
       "    <tr>\n",
       "      <th>2</th>\n",
       "      <td>/kaggle/input/brain-tumor-mri-dataset/Training...</td>\n",
       "      <td>pituitary</td>\n",
       "    </tr>\n",
       "    <tr>\n",
       "      <th>3</th>\n",
       "      <td>/kaggle/input/brain-tumor-mri-dataset/Training...</td>\n",
       "      <td>pituitary</td>\n",
       "    </tr>\n",
       "    <tr>\n",
       "      <th>4</th>\n",
       "      <td>/kaggle/input/brain-tumor-mri-dataset/Training...</td>\n",
       "      <td>pituitary</td>\n",
       "    </tr>\n",
       "    <tr>\n",
       "      <th>...</th>\n",
       "      <td>...</td>\n",
       "      <td>...</td>\n",
       "    </tr>\n",
       "    <tr>\n",
       "      <th>5707</th>\n",
       "      <td>/kaggle/input/brain-tumor-mri-dataset/Training...</td>\n",
       "      <td>glioma</td>\n",
       "    </tr>\n",
       "    <tr>\n",
       "      <th>5708</th>\n",
       "      <td>/kaggle/input/brain-tumor-mri-dataset/Training...</td>\n",
       "      <td>glioma</td>\n",
       "    </tr>\n",
       "    <tr>\n",
       "      <th>5709</th>\n",
       "      <td>/kaggle/input/brain-tumor-mri-dataset/Training...</td>\n",
       "      <td>glioma</td>\n",
       "    </tr>\n",
       "    <tr>\n",
       "      <th>5710</th>\n",
       "      <td>/kaggle/input/brain-tumor-mri-dataset/Training...</td>\n",
       "      <td>glioma</td>\n",
       "    </tr>\n",
       "    <tr>\n",
       "      <th>5711</th>\n",
       "      <td>/kaggle/input/brain-tumor-mri-dataset/Training...</td>\n",
       "      <td>glioma</td>\n",
       "    </tr>\n",
       "  </tbody>\n",
       "</table>\n",
       "<p>5712 rows × 2 columns</p>\n",
       "</div>"
      ],
      "text/plain": [
       "                                             Class Path      Class\n",
       "0     /kaggle/input/brain-tumor-mri-dataset/Training...  pituitary\n",
       "1     /kaggle/input/brain-tumor-mri-dataset/Training...  pituitary\n",
       "2     /kaggle/input/brain-tumor-mri-dataset/Training...  pituitary\n",
       "3     /kaggle/input/brain-tumor-mri-dataset/Training...  pituitary\n",
       "4     /kaggle/input/brain-tumor-mri-dataset/Training...  pituitary\n",
       "...                                                 ...        ...\n",
       "5707  /kaggle/input/brain-tumor-mri-dataset/Training...     glioma\n",
       "5708  /kaggle/input/brain-tumor-mri-dataset/Training...     glioma\n",
       "5709  /kaggle/input/brain-tumor-mri-dataset/Training...     glioma\n",
       "5710  /kaggle/input/brain-tumor-mri-dataset/Training...     glioma\n",
       "5711  /kaggle/input/brain-tumor-mri-dataset/Training...     glioma\n",
       "\n",
       "[5712 rows x 2 columns]"
      ]
     },
     "execution_count": 4,
     "metadata": {},
     "output_type": "execute_result"
    }
   ],
   "source": [
    "tr_df = train_df('/kaggle/input/brain-tumor-mri-dataset/Training')\n",
    "tr_df"
   ]
  },
  {
   "cell_type": "code",
   "execution_count": 5,
   "id": "9391f0f8",
   "metadata": {
    "execution": {
     "iopub.execute_input": "2024-08-10T22:37:04.710901Z",
     "iopub.status.busy": "2024-08-10T22:37:04.710622Z",
     "iopub.status.idle": "2024-08-10T22:37:04.946154Z",
     "shell.execute_reply": "2024-08-10T22:37:04.945258Z"
    },
    "papermill": {
     "duration": 0.248368,
     "end_time": "2024-08-10T22:37:04.948379",
     "exception": false,
     "start_time": "2024-08-10T22:37:04.700011",
     "status": "completed"
    },
    "tags": []
   },
   "outputs": [
    {
     "data": {
      "text/html": [
       "<div>\n",
       "<style scoped>\n",
       "    .dataframe tbody tr th:only-of-type {\n",
       "        vertical-align: middle;\n",
       "    }\n",
       "\n",
       "    .dataframe tbody tr th {\n",
       "        vertical-align: top;\n",
       "    }\n",
       "\n",
       "    .dataframe thead th {\n",
       "        text-align: right;\n",
       "    }\n",
       "</style>\n",
       "<table border=\"1\" class=\"dataframe\">\n",
       "  <thead>\n",
       "    <tr style=\"text-align: right;\">\n",
       "      <th></th>\n",
       "      <th>Class Path</th>\n",
       "      <th>Class</th>\n",
       "    </tr>\n",
       "  </thead>\n",
       "  <tbody>\n",
       "    <tr>\n",
       "      <th>0</th>\n",
       "      <td>/kaggle/input/brain-tumor-mri-dataset/Testing/...</td>\n",
       "      <td>pituitary</td>\n",
       "    </tr>\n",
       "    <tr>\n",
       "      <th>1</th>\n",
       "      <td>/kaggle/input/brain-tumor-mri-dataset/Testing/...</td>\n",
       "      <td>pituitary</td>\n",
       "    </tr>\n",
       "    <tr>\n",
       "      <th>2</th>\n",
       "      <td>/kaggle/input/brain-tumor-mri-dataset/Testing/...</td>\n",
       "      <td>pituitary</td>\n",
       "    </tr>\n",
       "    <tr>\n",
       "      <th>3</th>\n",
       "      <td>/kaggle/input/brain-tumor-mri-dataset/Testing/...</td>\n",
       "      <td>pituitary</td>\n",
       "    </tr>\n",
       "    <tr>\n",
       "      <th>4</th>\n",
       "      <td>/kaggle/input/brain-tumor-mri-dataset/Testing/...</td>\n",
       "      <td>pituitary</td>\n",
       "    </tr>\n",
       "    <tr>\n",
       "      <th>...</th>\n",
       "      <td>...</td>\n",
       "      <td>...</td>\n",
       "    </tr>\n",
       "    <tr>\n",
       "      <th>1306</th>\n",
       "      <td>/kaggle/input/brain-tumor-mri-dataset/Testing/...</td>\n",
       "      <td>glioma</td>\n",
       "    </tr>\n",
       "    <tr>\n",
       "      <th>1307</th>\n",
       "      <td>/kaggle/input/brain-tumor-mri-dataset/Testing/...</td>\n",
       "      <td>glioma</td>\n",
       "    </tr>\n",
       "    <tr>\n",
       "      <th>1308</th>\n",
       "      <td>/kaggle/input/brain-tumor-mri-dataset/Testing/...</td>\n",
       "      <td>glioma</td>\n",
       "    </tr>\n",
       "    <tr>\n",
       "      <th>1309</th>\n",
       "      <td>/kaggle/input/brain-tumor-mri-dataset/Testing/...</td>\n",
       "      <td>glioma</td>\n",
       "    </tr>\n",
       "    <tr>\n",
       "      <th>1310</th>\n",
       "      <td>/kaggle/input/brain-tumor-mri-dataset/Testing/...</td>\n",
       "      <td>glioma</td>\n",
       "    </tr>\n",
       "  </tbody>\n",
       "</table>\n",
       "<p>1311 rows × 2 columns</p>\n",
       "</div>"
      ],
      "text/plain": [
       "                                             Class Path      Class\n",
       "0     /kaggle/input/brain-tumor-mri-dataset/Testing/...  pituitary\n",
       "1     /kaggle/input/brain-tumor-mri-dataset/Testing/...  pituitary\n",
       "2     /kaggle/input/brain-tumor-mri-dataset/Testing/...  pituitary\n",
       "3     /kaggle/input/brain-tumor-mri-dataset/Testing/...  pituitary\n",
       "4     /kaggle/input/brain-tumor-mri-dataset/Testing/...  pituitary\n",
       "...                                                 ...        ...\n",
       "1306  /kaggle/input/brain-tumor-mri-dataset/Testing/...     glioma\n",
       "1307  /kaggle/input/brain-tumor-mri-dataset/Testing/...     glioma\n",
       "1308  /kaggle/input/brain-tumor-mri-dataset/Testing/...     glioma\n",
       "1309  /kaggle/input/brain-tumor-mri-dataset/Testing/...     glioma\n",
       "1310  /kaggle/input/brain-tumor-mri-dataset/Testing/...     glioma\n",
       "\n",
       "[1311 rows x 2 columns]"
      ]
     },
     "execution_count": 5,
     "metadata": {},
     "output_type": "execute_result"
    }
   ],
   "source": [
    "ts_df = test_df('/kaggle/input/brain-tumor-mri-dataset/Testing')\n",
    "ts_df"
   ]
  },
  {
   "cell_type": "markdown",
   "id": "43b1956b",
   "metadata": {
    "papermill": {
     "duration": 0.009624,
     "end_time": "2024-08-10T22:37:04.979040",
     "exception": false,
     "start_time": "2024-08-10T22:37:04.969416",
     "status": "completed"
    },
    "tags": []
   },
   "source": [
    "### Setting Up Data Paths and Preprocessing for Image Classification\n",
    "\n",
    "- **Paths Definition**:\n",
    "  - **`base_dir`**: Base directory containing the dataset.\n",
    "  - **`train_dir`** and **`test_dir`**: Paths to the training and testing directories, respectively.\n",
    "\n",
    "- **Image Dimensions**:\n",
    "  - **`img_height, img_width = 224, 224`**: Specifies the target size for resizing images.\n",
    "\n",
    "### Data Augmentation and Normalization\n",
    "\n",
    "- **Training Data Augmentation**:\n",
    "  - **`train_datagen`**: Includes rescaling, random transformations (rotation, shifts, shear, zoom, flip) to augment the training data, and a validation split.\n",
    "\n",
    "- **Validation and Testing Data**:\n",
    "  - **`validation_datagen`** and **`test_datagen`**: Only rescale images without augmentation, used for validation and testing.\n",
    "\n",
    "### Data Generators\n",
    "\n",
    "- **Training Data Generator**:\n",
    "  - **`train_generator`**: Loads and preprocesses training images from the directory with data augmentation.\n",
    "\n",
    "- **Validation Data Generator**:\n",
    "  - **`validation_generator`**: Loads and preprocesses validation images (subset of training) without augmentation.\n",
    "\n",
    "- **Testing Data Generator**:\n",
    "  - **`test_generator`**: Loads and preprocesses testing images without augmentation.\n",
    "\n",
    "### Class Indices Verification\n",
    "\n",
    "- **Class Indices**:\n",
    "  - **`print(train_generator.class_indices)`** and **`print(test_generator.class_indices)`**: Prints the mapping of class labels to indices to ensure consistency between training and testing datasets."
   ]
  },
  {
   "cell_type": "code",
   "execution_count": 6,
   "id": "5ce7c098",
   "metadata": {
    "execution": {
     "iopub.execute_input": "2024-08-10T22:37:04.999999Z",
     "iopub.status.busy": "2024-08-10T22:37:04.999636Z",
     "iopub.status.idle": "2024-08-10T22:37:05.005412Z",
     "shell.execute_reply": "2024-08-10T22:37:05.004656Z"
    },
    "papermill": {
     "duration": 0.018545,
     "end_time": "2024-08-10T22:37:05.007304",
     "exception": false,
     "start_time": "2024-08-10T22:37:04.988759",
     "status": "completed"
    },
    "tags": []
   },
   "outputs": [],
   "source": [
    "# Define paths\n",
    "base_dir = '/kaggle/input/brain-tumor-mri-dataset'\n",
    "train_dir = os.path.join(base_dir, 'Training')\n",
    "test_dir = os.path.join(base_dir, 'Testing')\n",
    "\n",
    "# Image dimensions\n",
    "img_height, img_width = 224, 224\n",
    "\n",
    "# Data augmentation and normalization for training\n",
    "train_datagen = ImageDataGenerator(\n",
    "    rescale=1./255,\n",
    "    rotation_range=20,\n",
    "    width_shift_range=0.2,\n",
    "    height_shift_range=0.2,\n",
    "    shear_range=0.2,\n",
    "    zoom_range=0.2,\n",
    "    horizontal_flip=True,\n",
    "    fill_mode='nearest',\n",
    "    validation_split=0.2\n",
    ")"
   ]
  },
  {
   "cell_type": "code",
   "execution_count": 7,
   "id": "f84f29b2",
   "metadata": {
    "execution": {
     "iopub.execute_input": "2024-08-10T22:37:05.028574Z",
     "iopub.status.busy": "2024-08-10T22:37:05.028270Z",
     "iopub.status.idle": "2024-08-10T22:37:05.032794Z",
     "shell.execute_reply": "2024-08-10T22:37:05.032042Z"
    },
    "papermill": {
     "duration": 0.017462,
     "end_time": "2024-08-10T22:37:05.034716",
     "exception": false,
     "start_time": "2024-08-10T22:37:05.017254",
     "status": "completed"
    },
    "tags": []
   },
   "outputs": [],
   "source": [
    "# Only rescaling for testing\n",
    "validation_datagen = ImageDataGenerator(rescale=1./255)\n",
    "test_datagen = ImageDataGenerator(rescale=1./255)"
   ]
  },
  {
   "cell_type": "code",
   "execution_count": 8,
   "id": "069d49ec",
   "metadata": {
    "execution": {
     "iopub.execute_input": "2024-08-10T22:37:05.055935Z",
     "iopub.status.busy": "2024-08-10T22:37:05.055626Z",
     "iopub.status.idle": "2024-08-10T22:37:08.636372Z",
     "shell.execute_reply": "2024-08-10T22:37:08.635308Z"
    },
    "papermill": {
     "duration": 3.593576,
     "end_time": "2024-08-10T22:37:08.638371",
     "exception": false,
     "start_time": "2024-08-10T22:37:05.044795",
     "status": "completed"
    },
    "tags": []
   },
   "outputs": [
    {
     "name": "stdout",
     "output_type": "stream",
     "text": [
      "Found 5712 images belonging to 4 classes.\n",
      "Found 0 images belonging to 4 classes.\n",
      "Found 1311 images belonging to 4 classes.\n",
      "{'glioma': 0, 'meningioma': 1, 'notumor': 2, 'pituitary': 3}\n",
      "{'glioma': 0, 'meningioma': 1, 'notumor': 2, 'pituitary': 3}\n"
     ]
    }
   ],
   "source": [
    "# Load and preprocess the training data\n",
    "train_generator = train_datagen.flow_from_directory(\n",
    "    train_dir,\n",
    "    target_size=(img_height, img_width),\n",
    "    batch_size=32,\n",
    "    class_mode='categorical'\n",
    ")\n",
    "\n",
    "# Load and preprocess the validation data\n",
    "validation_generator = validation_datagen.flow_from_directory(\n",
    "    train_dir,\n",
    "    target_size=(img_height, img_width),\n",
    "    batch_size=32,\n",
    "    class_mode='categorical',\n",
    "    subset='validation'\n",
    ")\n",
    "\n",
    "# Load and preprocess the testing data\n",
    "test_generator = test_datagen.flow_from_directory(\n",
    "    test_dir,\n",
    "    target_size=(img_height, img_width),\n",
    "    batch_size=32,\n",
    "    class_mode='categorical'\n",
    ")\n",
    "\n",
    "# Verify the class indices\n",
    "print(train_generator.class_indices)\n",
    "print(test_generator.class_indices)"
   ]
  },
  {
   "cell_type": "markdown",
   "id": "c5068e61",
   "metadata": {
    "papermill": {
     "duration": 0.010322,
     "end_time": "2024-08-10T22:37:08.658955",
     "exception": false,
     "start_time": "2024-08-10T22:37:08.648633",
     "status": "completed"
    },
    "tags": []
   },
   "source": [
    "### Visualizing the Count of Images in Each Class\n",
    "\n",
    "- **Training Data Class Distribution**:\n",
    "  - **`plt.figure(figsize=(15,7))`**: Sets the figure size.\n",
    "  - **`ax = sns.countplot(data=tr_df , y=tr_df['Class'])`**: Creates a horizontal bar plot showing the count of images in each class in the training data.\n",
    "  - **`plt.title('Count of Training images in each class', fontsize=20)`**: Sets the title for the plot.\n",
    "  - **`ax.bar_label(ax.containers[0])`**: Adds labels to the bars showing the exact count.\n",
    "\n",
    "- **Testing Data Class Distribution**:\n",
    "  - **`plt.figure(figsize=(15, 7))`**: Sets the figure size.\n",
    "  - **`ax = sns.countplot(y=ts_df['Class'], palette='viridis')`**: Creates a horizontal bar plot showing the count of images in each class in the testing data, with a color palette of 'viridis'.\n",
    "  - **`ax.set(xlabel='', ylabel='', title='Count of Testing images in each class')`**: Sets the title for the plot.\n",
    "  - **`ax.bar_label(ax.containers[0])`**: Adds labels to the bars showing the exact count."
   ]
  },
  {
   "cell_type": "code",
   "execution_count": 9,
   "id": "1d26ee2a",
   "metadata": {
    "execution": {
     "iopub.execute_input": "2024-08-10T22:37:08.680387Z",
     "iopub.status.busy": "2024-08-10T22:37:08.680063Z",
     "iopub.status.idle": "2024-08-10T22:37:09.000931Z",
     "shell.execute_reply": "2024-08-10T22:37:09.000048Z"
    },
    "papermill": {
     "duration": 0.33417,
     "end_time": "2024-08-10T22:37:09.003246",
     "exception": false,
     "start_time": "2024-08-10T22:37:08.669076",
     "status": "completed"
    },
    "tags": []
   },
   "outputs": [
    {
     "data": {
      "image/png": "[encoded data removed]",
      "text/plain": [
       "<Figure size 1500x700 with 1 Axes>"
      ]
     },
     "metadata": {},
     "output_type": "display_data"
    }
   ],
   "source": [
    "# Count of images in each class in train data\n",
    "plt.figure(figsize=(15,7))\n",
    "ax = sns.countplot(data=tr_df , y=tr_df['Class'])\n",
    "\n",
    "plt.xlabel('')\n",
    "plt.ylabel('')\n",
    "plt.title('Count of Training images in each class', fontsize=20)\n",
    "ax.bar_label(ax.containers[0])\n",
    "plt.show()"
   ]
  },
  {
   "cell_type": "code",
   "execution_count": 10,
   "id": "d3a5478c",
   "metadata": {
    "execution": {
     "iopub.execute_input": "2024-08-10T22:37:09.026386Z",
     "iopub.status.busy": "2024-08-10T22:37:09.026094Z",
     "iopub.status.idle": "2024-08-10T22:37:09.305353Z",
     "shell.execute_reply": "2024-08-10T22:37:09.304358Z"
    },
    "papermill": {
     "duration": 0.293484,
     "end_time": "2024-08-10T22:37:09.307685",
     "exception": false,
     "start_time": "2024-08-10T22:37:09.014201",
     "status": "completed"
    },
    "tags": []
   },
   "outputs": [
    {
     "data": {
      "image/png": "[encoded data removed]",
      "text/plain": [
       "<Figure size 1500x700 with 1 Axes>"
      ]
     },
     "metadata": {},
     "output_type": "display_data"
    }
   ],
   "source": [
    "#Count each class in test data\n",
    "plt.figure(figsize=(15, 7))\n",
    "ax = sns.countplot(y=ts_df['Class'], palette='viridis')\n",
    "\n",
    "ax.set(xlabel='', ylabel='', title='Count of Testing images in each class')\n",
    "ax.bar_label(ax.containers[0])\n",
    "\n",
    "plt.show()"
   ]
  },
  {
   "cell_type": "markdown",
   "id": "8e298ebb",
   "metadata": {
    "papermill": {
     "duration": 0.010626,
     "end_time": "2024-08-10T22:37:09.330500",
     "exception": false,
     "start_time": "2024-08-10T22:37:09.319874",
     "status": "completed"
    },
    "tags": []
   },
   "source": [
    "### Loading and Resizing Images\n",
    "\n",
    "- **`load_and_resize_images(directory, target_size)`**: Loads and resizes images from the specified directory, returning image arrays, labels, and class names.\n",
    "\n",
    "- **Training and Testing Data**:\n",
    "  - Training: `train_images, train_labels, class_names = load_and_resize_images(train_dir)`\n",
    "  - Testing: `test_images, test_labels, _ = load_and_resize_images(test_dir)`\n",
    "\n",
    "- **Dataset Summary**:\n",
    "  - Number of training images: 5712\n",
    "  - Number of testing images: 1311\n",
    "  - Classes: ['glioma', 'meningioma', 'notumor', 'pituitary']\n"
   ]
  },
  {
   "cell_type": "code",
   "execution_count": 11,
   "id": "bcaee766",
   "metadata": {
    "execution": {
     "iopub.execute_input": "2024-08-10T22:37:09.353266Z",
     "iopub.status.busy": "2024-08-10T22:37:09.352968Z",
     "iopub.status.idle": "2024-08-10T22:38:17.423940Z",
     "shell.execute_reply": "2024-08-10T22:38:17.422998Z"
    },
    "papermill": {
     "duration": 68.096422,
     "end_time": "2024-08-10T22:38:17.437591",
     "exception": false,
     "start_time": "2024-08-10T22:37:09.341169",
     "status": "completed"
    },
    "tags": []
   },
   "outputs": [
    {
     "name": "stdout",
     "output_type": "stream",
     "text": [
      "Number of training images: 5712\n",
      "Number of testing images: 1311\n",
      "Classes: ['glioma', 'meningioma', 'notumor', 'pituitary']\n"
     ]
    }
   ],
   "source": [
    "# Define paths\n",
    "base_dir = '/kaggle/input/brain-tumor-mri-dataset'\n",
    "train_dir = os.path.join(base_dir, 'Training')\n",
    "test_dir = os.path.join(base_dir, 'Testing')\n",
    "\n",
    "# Image dimensions\n",
    "img_height, img_width = 224, 224\n",
    "\n",
    "# Function to load and resize images\n",
    "def load_and_resize_images(directory, target_size=(img_height, img_width)):\n",
    "    images = []\n",
    "    labels = []\n",
    "    class_names = sorted(os.listdir(directory))\n",
    "    for class_name in class_names:\n",
    "        class_dir = os.path.join(directory, class_name)\n",
    "        for img_name in os.listdir(class_dir):\n",
    "            img_path = os.path.join(class_dir, img_name)\n",
    "            image = load_img(img_path)\n",
    "            image = img_to_array(image)\n",
    "            image = resize(image, target_size)\n",
    "            images.append(image.numpy()) \n",
    "            labels.append(class_name)\n",
    "    images = np.array(images)\n",
    "    labels = np.array(labels)\n",
    "    return images, labels, class_names\n",
    "\n",
    "# Load and resize training data\n",
    "train_images, train_labels, class_names = load_and_resize_images(train_dir)\n",
    "test_images, test_labels, _ = load_and_resize_images(test_dir)\n",
    "\n",
    "# Display basic dataset information\n",
    "print(f'Number of training images: {len(train_images)}')\n",
    "print(f'Number of testing images: {len(test_images)}')\n",
    "print(f'Classes: {class_names}')"
   ]
  },
  {
   "cell_type": "markdown",
   "id": "567c9785",
   "metadata": {
    "papermill": {
     "duration": 0.011226,
     "end_time": "2024-08-10T22:38:17.460134",
     "exception": false,
     "start_time": "2024-08-10T22:38:17.448908",
     "status": "completed"
    },
    "tags": []
   },
   "source": [
    "### Image Dimensions Analysis\n",
    "\n",
    "- **Function**: \n",
    "  - **`analyze_image_dimensions(images)`**: Analyzes the dimensions of the provided image array, counting the occurrences of each unique dimension.\n",
    "\n",
    "- **Results**:\n",
    "  - **Training Images**:\n",
    "    - All 5712 images have dimensions [224, 224, 3].\n",
    "  - **Testing Images**:\n",
    "    - All 1311 images have dimensions [224, 224, 3].\n",
    "\n",
    "### Interpretation:\n",
    "Both the training and testing images have consistent dimensions of 224x224 pixels with 3 color channels (RGB). This consistency ensures that the images are uniformly processed and ready for input into a convolutional neural network (CNN)."
   ]
  },
  {
   "cell_type": "code",
   "execution_count": 12,
   "id": "f64f01a9",
   "metadata": {
    "execution": {
     "iopub.execute_input": "2024-08-10T22:38:17.485158Z",
     "iopub.status.busy": "2024-08-10T22:38:17.484374Z",
     "iopub.status.idle": "2024-08-10T22:38:17.511122Z",
     "shell.execute_reply": "2024-08-10T22:38:17.509984Z"
    },
    "papermill": {
     "duration": 0.041415,
     "end_time": "2024-08-10T22:38:17.513118",
     "exception": false,
     "start_time": "2024-08-10T22:38:17.471703",
     "status": "completed"
    },
    "tags": []
   },
   "outputs": [
    {
     "name": "stdout",
     "output_type": "stream",
     "text": [
      "Training Image Dimensions:\n",
      "Dimension: [224 224   3], Count: 5712\n",
      "Testing Image Dimensions:\n",
      "Dimension: [224 224   3], Count: 1311\n"
     ]
    }
   ],
   "source": [
    "# Analyze image dimensions\n",
    "def analyze_image_dimensions(images):\n",
    "    dimensions = [img.shape for img in images]\n",
    "    dimensions = np.array(dimensions)\n",
    "    unique_dimensions, counts = np.unique(dimensions, axis=0, return_counts=True)\n",
    "    for dim, count in zip(unique_dimensions, counts):\n",
    "        print(f'Dimension: {dim}, Count: {count}')\n",
    "\n",
    "print('Training Image Dimensions:')\n",
    "analyze_image_dimensions(train_images)\n",
    "print('Testing Image Dimensions:')\n",
    "analyze_image_dimensions(test_images)"
   ]
  },
  {
   "cell_type": "code",
   "execution_count": 13,
   "id": "5179939f",
   "metadata": {
    "execution": {
     "iopub.execute_input": "2024-08-10T22:38:17.536825Z",
     "iopub.status.busy": "2024-08-10T22:38:17.536556Z",
     "iopub.status.idle": "2024-08-10T22:38:21.001867Z",
     "shell.execute_reply": "2024-08-10T22:38:21.000962Z"
    },
    "papermill": {
     "duration": 3.480021,
     "end_time": "2024-08-10T22:38:21.004236",
     "exception": false,
     "start_time": "2024-08-10T22:38:17.524215",
     "status": "completed"
    },
    "tags": []
   },
   "outputs": [
    {
     "name": "stdout",
     "output_type": "stream",
     "text": [
      "Training Data - Mean: 47.285579681396484, Std: 51.528846740722656, Min: 0.0, Max: 255.0\n",
      "Testing Data - Mean: 49.151268005371094, Std: 53.712154388427734, Min: 0.0, Max: 255.0\n"
     ]
    }
   ],
   "source": [
    "# Compute basic statistics\n",
    "def compute_statistics(images):\n",
    "    pixel_values = images.ravel()\n",
    "    mean = np.mean(pixel_values)\n",
    "    std = np.std(pixel_values)\n",
    "    min_val = np.min(pixel_values)\n",
    "    max_val = np.max(pixel_values)\n",
    "    return mean, std, min_val, max_val\n",
    "\n",
    "train_mean, train_std, train_min, train_max = compute_statistics(train_images)\n",
    "test_mean, test_std, test_min, test_max = compute_statistics(test_images)\n",
    "\n",
    "print(f'Training Data - Mean: {train_mean}, Std: {train_std}, Min: {train_min}, Max: {train_max}')\n",
    "print(f'Testing Data - Mean: {test_mean}, Std: {test_std}, Min: {test_min}, Max: {test_max}')"
   ]
  },
  {
   "cell_type": "code",
   "execution_count": 14,
   "id": "3b337149",
   "metadata": {
    "execution": {
     "iopub.execute_input": "2024-08-10T22:38:21.028673Z",
     "iopub.status.busy": "2024-08-10T22:38:21.028377Z",
     "iopub.status.idle": "2024-08-10T22:38:34.010417Z",
     "shell.execute_reply": "2024-08-10T22:38:34.009386Z"
    },
    "papermill": {
     "duration": 12.996974,
     "end_time": "2024-08-10T22:38:34.012657",
     "exception": false,
     "start_time": "2024-08-10T22:38:21.015683",
     "status": "completed"
    },
    "tags": []
   },
   "outputs": [
    {
     "data": {
      "image/png": "[encoded data removed]",
      "text/plain": [
       "<Figure size 1000x600 with 1 Axes>"
      ]
     },
     "metadata": {},
     "output_type": "display_data"
    }
   ],
   "source": [
    "def plot_pixel_intensity_distribution(images):\n",
    "    flattened_images = images.reshape(-1, images.shape[-1])\n",
    "    plt.figure(figsize=(10, 6))\n",
    "    plt.hist(flattened_images.flatten(), bins=50, color='lightcoral', alpha=0.7)\n",
    "    plt.title('Pixel Intensity Distribution')\n",
    "    plt.xlabel('Pixel Intensity')\n",
    "    plt.ylabel('Frequency')\n",
    "    plt.show()\n",
    "\n",
    "plot_pixel_intensity_distribution(train_images)"
   ]
  },
  {
   "cell_type": "markdown",
   "id": "d235dc86",
   "metadata": {
    "papermill": {
     "duration": 0.011552,
     "end_time": "2024-08-10T22:38:34.036347",
     "exception": false,
     "start_time": "2024-08-10T22:38:34.024795",
     "status": "completed"
    },
    "tags": []
   },
   "source": [
    "### Data Preprocessing and Generators Setup\n",
    "\n",
    "- **Loading and Preprocessing Data**:\n",
    "  - Training and testing images are loaded from directories, resized to `224x224`, and normalized (divided by 255).\n",
    "  - Labels are mapped to numerical values using `label_map`.\n",
    "\n",
    "- **Splitting Data**:\n",
    "  - The training data is split into training (80%) and validation (20%) sets using `train_test_split` with stratification.\n",
    "\n",
    "- **Data Generators**:\n",
    "  - **`train_datagen`**: Applies data augmentation (rotation, shift, shear, zoom, flip) to the training images.\n",
    "  - **`test_datagen`**: Used for validation and testing images, without augmentation.\n",
    "\n",
    "- **Flow Generators**:\n",
    "  - **`train_generator`**: Feeds augmented training images in batches.\n",
    "  - **`val_generator`**: Feeds validation images in batches.\n",
    "  - **`test_generator`**: Feeds testing images in batches (no shuffle).\n"
   ]
  },
  {
   "cell_type": "code",
   "execution_count": 15,
   "id": "8b3126fc",
   "metadata": {
    "execution": {
     "iopub.execute_input": "2024-08-10T22:38:34.061354Z",
     "iopub.status.busy": "2024-08-10T22:38:34.060839Z",
     "iopub.status.idle": "2024-08-10T22:38:50.238064Z",
     "shell.execute_reply": "2024-08-10T22:38:50.237251Z"
    },
    "papermill": {
     "duration": 16.192713,
     "end_time": "2024-08-10T22:38:50.240610",
     "exception": false,
     "start_time": "2024-08-10T22:38:34.047897",
     "status": "completed"
    },
    "scrolled": true,
    "tags": []
   },
   "outputs": [],
   "source": [
    "import os\n",
    "import numpy as np\n",
    "import tensorflow as tf\n",
    "from tensorflow.keras.preprocessing.image import ImageDataGenerator\n",
    "from tensorflow.keras.applications import VGG16, InceptionV3, ResNet50, EfficientNetB0\n",
    "from tensorflow.keras.layers import GlobalAveragePooling2D, Dense, Dropout\n",
    "from tensorflow.keras.models import Model\n",
    "from tensorflow.keras.optimizers import Adam\n",
    "from tensorflow.keras.callbacks import EarlyStopping, ReduceLROnPlateau, ModelCheckpoint\n",
    "from sklearn.metrics import classification_report, confusion_matrix\n",
    "from sklearn.model_selection import train_test_split\n",
    "import keras_tuner as kt\n",
    "import tempfile\n",
    "import shutil\n",
    "\n",
    "# Load and preprocess training data\n",
    "train_images = []\n",
    "train_labels = []\n",
    "class_names = sorted(os.listdir(train_dir))\n",
    "label_map = {class_name: idx for idx, class_name in enumerate(class_names)}\n",
    "\n",
    "for class_name in class_names:\n",
    "    class_dir = os.path.join(train_dir, class_name)\n",
    "    for img_name in os.listdir(class_dir):\n",
    "        img_path = os.path.join(class_dir, img_name)\n",
    "        image = tf.keras.preprocessing.image.load_img(img_path, target_size=(img_height, img_width))\n",
    "        image = tf.keras.preprocessing.image.img_to_array(image) / 255.0\n",
    "        train_images.append(image)\n",
    "        train_labels.append(label_map[class_name])\n",
    "\n",
    "train_images = np.array(train_images)\n",
    "train_labels = np.array(train_labels)\n",
    "\n",
    "# Load and preprocess testing data\n",
    "test_images = []\n",
    "test_labels = []\n",
    "\n",
    "for class_name in class_names:\n",
    "    class_dir = os.path.join(test_dir, class_name)\n",
    "    for img_name in os.listdir(class_dir):\n",
    "        img_path = os.path.join(class_dir, img_name)\n",
    "        image = tf.keras.preprocessing.image.load_img(img_path, target_size=(img_height, img_width))\n",
    "        image = tf.keras.preprocessing.image.img_to_array(image) / 255.0\n",
    "        test_images.append(image)\n",
    "        test_labels.append(label_map[class_name])\n",
    "\n",
    "test_images = np.array(test_images)\n",
    "test_labels = np.array(test_labels)\n",
    "\n",
    "# Split the training data into training and validation sets\n",
    "train_images, val_images, train_labels, val_labels = train_test_split(\n",
    "    train_images, train_labels, test_size=0.2, random_state=42, stratify=train_labels)\n",
    "\n",
    "# Create data generators\n",
    "train_datagen = ImageDataGenerator(\n",
    "    rotation_range=20,\n",
    "    width_shift_range=0.2,\n",
    "    height_shift_range=0.2,\n",
    "    shear_range=0.2,\n",
    "    zoom_range=0.2,\n",
    "    horizontal_flip=True,\n",
    "    fill_mode='nearest'\n",
    ")\n",
    "\n",
    "test_datagen = ImageDataGenerator()\n",
    "\n",
    "train_generator = train_datagen.flow(train_images, train_labels, batch_size=32)\n",
    "val_generator = test_datagen.flow(val_images, val_labels, batch_size=32)\n",
    "test_generator = test_datagen.flow(test_images, test_labels, batch_size=32, shuffle=False)"
   ]
  },
  {
   "cell_type": "markdown",
   "id": "dbf1ad0a",
   "metadata": {
    "papermill": {
     "duration": 0.011191,
     "end_time": "2024-08-10T22:38:50.263784",
     "exception": false,
     "start_time": "2024-08-10T22:38:50.252593",
     "status": "completed"
    },
    "tags": []
   },
   "source": [
    "### Model Creation with Transfer Learning and Hyperparameter Tuning\n",
    "\n",
    "- **`build_model(hp, base_model)`**:\n",
    "  - Constructs a model using a pre-trained base model with hyperparameter tuning for the dense layer units, dropout rate, and learning rate.\n",
    "  - Utilizes `GlobalAveragePooling2D`, a tunable `Dense` layer, and a `Dropout` layer.\n",
    "  - Compiles the model with a tunable learning rate using the Adam optimizer.\n",
    "\n",
    "- **Pre-trained Models**:\n",
    "  - Uses **VGG16**, **InceptionV3**, and **EfficientNetB0** as base models, excluding the top layers and loading `imagenet` weights.\n",
    "\n",
    "- **Hyperparameter Tuning**:\n",
    "  - For each pre-trained model:\n",
    "    - Freezes the base model layers.\n",
    "    - Defines a hypermodel function for Keras Tuner.\n",
    "    - Uses `RandomSearch` from Keras Tuner to search for the best hyperparameters based on validation accuracy.\n",
    "    - Fine-tunes the model by unfreezing the top layers and retraining with a reduced learning rate.\n",
    "  \n",
    "- **Training and Evaluation**:\n",
    "  - Performs training with early stopping and learning rate reduction callbacks.\n",
    "  - Evaluates the fine-tuned model on the test dataset and stores the best model.\n",
    "\n",
    "- **Temporary Directory**:\n",
    "  - Utilizes a temporary directory for storing Keras Tuner outputs, which is cleaned up after tuning.\n"
   ]
  },
  {
   "cell_type": "code",
   "execution_count": 16,
   "id": "d5a70201",
   "metadata": {
    "execution": {
     "iopub.execute_input": "2024-08-10T22:38:50.288349Z",
     "iopub.status.busy": "2024-08-10T22:38:50.288018Z",
     "iopub.status.idle": "2024-08-11T00:19:19.522676Z",
     "shell.execute_reply": "2024-08-11T00:19:19.521534Z"
    },
    "papermill": {
     "duration": 6029.249558,
     "end_time": "2024-08-11T00:19:19.524784",
     "exception": false,
     "start_time": "2024-08-10T22:38:50.275226",
     "status": "completed"
    },
    "scrolled": true,
    "tags": []
   },
   "outputs": [
    {
     "name": "stdout",
     "output_type": "stream",
     "text": [
      "Trial 3 Complete [00h 10m 15s]\n",
      "val_accuracy: 0.27909010648727417\n",
      "\n",
      "Best val_accuracy So Far: 0.27909010648727417\n",
      "Total elapsed time: 00h 31m 55s\n",
      "Epoch 1/5\n",
      "\u001b[1m  2/143\u001b[0m \u001b[37m━━━━━━━━━━━━━━━━━━━━\u001b[0m \u001b[1m7s\u001b[0m 57ms/step - accuracy: 0.2578 - loss: 2.3282    "
     ]
    },
    {
     "name": "stderr",
     "output_type": "stream",
     "text": [
      "W0000 00:00:1723335300.896353      92 graph_launch.cc:671] Fallback to op-by-op mode because memset node breaks graph update\n"
     ]
    },
    {
     "name": "stdout",
     "output_type": "stream",
     "text": [
      "\u001b[1m 59/143\u001b[0m \u001b[32m━━━━━━━━\u001b[0m\u001b[37m━━━━━━━━━━━━\u001b[0m \u001b[1m49s\u001b[0m 589ms/step - accuracy: 0.2465 - loss: 1.9122"
     ]
    },
    {
     "name": "stderr",
     "output_type": "stream",
     "text": [
      "W0000 00:00:1723335334.939866      92 graph_launch.cc:671] Fallback to op-by-op mode because memset node breaks graph update\n"
     ]
    },
    {
     "name": "stdout",
     "output_type": "stream",
     "text": [
      "\u001b[1m142/143\u001b[0m \u001b[32m━━━━━━━━━━━━━━━━━━━\u001b[0m\u001b[37m━\u001b[0m \u001b[1m0s\u001b[0m 410ms/step - accuracy: 0.2558 - loss: 1.6833"
     ]
    },
    {
     "name": "stderr",
     "output_type": "stream",
     "text": [
      "W0000 00:00:1723335363.953987      95 graph_launch.cc:671] Fallback to op-by-op mode because memset node breaks graph update\n",
      "W0000 00:00:1723335368.184269      92 graph_launch.cc:671] Fallback to op-by-op mode because memset node breaks graph update\n"
     ]
    },
    {
     "name": "stdout",
     "output_type": "stream",
     "text": [
      "\u001b[1m143/143\u001b[0m \u001b[32m━━━━━━━━━━━━━━━━━━━━\u001b[0m\u001b[37m\u001b[0m \u001b[1m97s\u001b[0m 475ms/step - accuracy: 0.2559 - loss: 1.6804 - val_accuracy: 0.2310 - val_loss: 1.3886 - learning_rate: 0.0100\n",
      "Epoch 2/5\n",
      "\u001b[1m143/143\u001b[0m \u001b[32m━━━━━━━━━━━━━━━━━━━━\u001b[0m\u001b[37m\u001b[0m \u001b[1m45s\u001b[0m 301ms/step - accuracy: 0.2569 - loss: 1.3892 - val_accuracy: 0.2791 - val_loss: 1.3835 - learning_rate: 0.0100\n",
      "Epoch 3/5\n",
      "\u001b[1m143/143\u001b[0m \u001b[32m━━━━━━━━━━━━━━━━━━━━\u001b[0m\u001b[37m\u001b[0m \u001b[1m45s\u001b[0m 298ms/step - accuracy: 0.2861 - loss: 1.3837 - val_accuracy: 0.2791 - val_loss: 1.3837 - learning_rate: 0.0100\n",
      "Epoch 4/5\n",
      "\u001b[1m143/143\u001b[0m \u001b[32m━━━━━━━━━━━━━━━━━━━━\u001b[0m\u001b[37m\u001b[0m \u001b[1m45s\u001b[0m 299ms/step - accuracy: 0.2724 - loss: 1.3865 - val_accuracy: 0.2791 - val_loss: 1.3850 - learning_rate: 0.0100\n",
      "Epoch 5/5\n",
      "\u001b[1m143/143\u001b[0m \u001b[32m━━━━━━━━━━━━━━━━━━━━\u001b[0m\u001b[37m\u001b[0m \u001b[1m45s\u001b[0m 299ms/step - accuracy: 0.2791 - loss: 1.3854 - val_accuracy: 0.2791 - val_loss: 1.3838 - learning_rate: 0.0100\n",
      "\u001b[1m41/41\u001b[0m \u001b[32m━━━━━━━━━━━━━━━━━━━━\u001b[0m\u001b[37m\u001b[0m \u001b[1m11s\u001b[0m 268ms/step - accuracy: 0.1600 - loss: 1.4301\n",
      "Fine-tuned EfficientNetB0 Test Accuracy: 0.3089\n"
     ]
    },
    {
     "name": "stderr",
     "output_type": "stream",
     "text": [
      "W0000 00:00:1723335559.393801      95 graph_launch.cc:671] Fallback to op-by-op mode because memset node breaks graph update\n"
     ]
    }
   ],
   "source": [
    "# Create a function to create a model with transfer learning and hyperparameter tuning\n",
    "def build_model(hp, base_model):\n",
    "    x = base_model.output\n",
    "    x = GlobalAveragePooling2D()(x)\n",
    "    x = Dense(hp.Int('units', min_value=512, max_value=2048, step=512), activation='relu')(x)\n",
    "    x = Dropout(hp.Float('dropout', min_value=0.3, max_value=0.7, step=0.1))(x)\n",
    "    predictions = Dense(len(class_names), activation='softmax')(x)\n",
    "    model = Model(inputs=base_model.input, outputs=predictions)\n",
    "\n",
    "    learning_rate = hp.Choice('learning_rate', values=[1e-2, 1e-3, 1e-4])\n",
    "    model.compile(optimizer=Adam(learning_rate=learning_rate), \n",
    "                  loss='sparse_categorical_crossentropy', \n",
    "                  metrics=['accuracy'])\n",
    "    return model\n",
    "\n",
    "# List of pre-trained models to use\n",
    "pretrained_models = {\n",
    "    \"VGG16\": VGG16(weights='imagenet', include_top=False, input_shape=(img_height, img_width, 3)),\n",
    "    \"InceptionV3\": InceptionV3(weights='imagenet', include_top=False, input_shape=(img_height, img_width, 3)),\n",
    "    \"EfficientNetB0\": EfficientNetB0(weights='imagenet', include_top=False, input_shape=(img_height, img_width, 3))\n",
    "}\n",
    "\n",
    "fine_tuned_models = {}\n",
    "\n",
    "# Use a temporary directory for Keras Tuner\n",
    "temp_dir = tempfile.mkdtemp()\n",
    "\n",
    "try:\n",
    "    for model_name, base_model in pretrained_models.items():\n",
    "        print(f\"Tuning model: {model_name}\")\n",
    "\n",
    "        # Freeze the layers of the base model\n",
    "        for layer in base_model.layers:\n",
    "            layer.trainable = False\n",
    "\n",
    "        # Hypermodel function for Keras Tuner\n",
    "        def hypermodel(hp):\n",
    "            return build_model(hp, base_model)\n",
    "\n",
    "        tuner = kt.RandomSearch(\n",
    "            hypermodel,\n",
    "            objective='val_accuracy',\n",
    "            max_trials=3,\n",
    "            executions_per_trial=2,\n",
    "            directory=temp_dir,  # Use temporary directory\n",
    "            project_name=f'{model_name}_tuning'\n",
    "        )\n",
    "\n",
    "        tuner.search_space_summary()\n",
    "\n",
    "        # Perform hyperparameter search\n",
    "        tuner.search(train_generator,\n",
    "                     epochs=5,\n",
    "                     validation_data=val_generator,\n",
    "                     callbacks=[EarlyStopping(monitor='val_loss', patience=5)])\n",
    "\n",
    "        # Get the optimal hyperparameters and best model\n",
    "        best_hp = tuner.get_best_hyperparameters(num_trials=1)[0]\n",
    "        best_model = tuner.hypermodel.build(best_hp)\n",
    "\n",
    "        # Unfreeze some of the top layers for fine-tuning\n",
    "        for layer in best_model.layers[-4:]:\n",
    "            layer.trainable = True\n",
    "\n",
    "        # Compile the model with a lower learning rate\n",
    "        best_model.compile(optimizer=Adam(learning_rate=best_hp.get('learning_rate')), \n",
    "                           loss='sparse_categorical_crossentropy', metrics=['accuracy'])\n",
    "\n",
    "        # Train the model with fine-tuning\n",
    "        best_model.fit(\n",
    "            train_generator,\n",
    "            epochs=5,\n",
    "            validation_data=val_generator,\n",
    "            callbacks=[\n",
    "                EarlyStopping(monitor='val_loss', patience=5, restore_best_weights=True),\n",
    "                ReduceLROnPlateau(monitor='val_loss', factor=0.2, patience=3, min_lr=1e-5)\n",
    "            ]\n",
    "        )\n",
    "\n",
    "        # Evaluate the model on the test set\n",
    "        test_loss, test_acc = best_model.evaluate(test_generator)\n",
    "        print(f\"Fine-tuned {model_name} Test Accuracy: {test_acc:.4f}\")\n",
    "\n",
    "        fine_tuned_models[model_name] = best_model\n",
    "finally:\n",
    "    # Clean up temporary directory\n",
    "    shutil.rmtree(temp_dir)"
   ]
  },
  {
   "cell_type": "markdown",
   "id": "0b62c63a",
   "metadata": {
    "papermill": {
     "duration": 0.067883,
     "end_time": "2024-08-11T00:19:19.661114",
     "exception": false,
     "start_time": "2024-08-11T00:19:19.593231",
     "status": "completed"
    },
    "tags": []
   },
   "source": [
    "### Saving Fine-Tuned Models\n",
    "\n",
    "- **Save Models**:\n",
    "  - Serializes the `fine_tuned_models` dictionary, which contains the fine-tuned models, to a pickle file named `'fine_tuned_models.pkl'`.\n",
    "  - Uses `pickle.dump` to write the dictionary to the file.\n",
    "\n",
    "\n",
    "- **Confirmation**:\n",
    "  - Prints a confirmation message indicating that the models have been successfully saved."
   ]
  },
  {
   "cell_type": "code",
   "execution_count": 17,
   "id": "0fe3cbb7",
   "metadata": {
    "execution": {
     "iopub.execute_input": "2024-08-11T00:19:19.799634Z",
     "iopub.status.busy": "2024-08-11T00:19:19.799326Z",
     "iopub.status.idle": "2024-08-11T00:19:21.800137Z",
     "shell.execute_reply": "2024-08-11T00:19:21.799036Z"
    },
    "papermill": {
     "duration": 2.072598,
     "end_time": "2024-08-11T00:19:21.802232",
     "exception": false,
     "start_time": "2024-08-11T00:19:19.729634",
     "status": "completed"
    },
    "tags": []
   },
   "outputs": [
    {
     "name": "stdout",
     "output_type": "stream",
     "text": [
      "Fine-tuned models saved as 'fine_tuned_models.pkl'\n"
     ]
    }
   ],
   "source": [
    "import pickle\n",
    "\n",
    "# Save the fine-tuned models dictionary to a pickle file\n",
    "with open('fine_tuned_models.pkl', 'wb') as f:\n",
    "    pickle.dump(fine_tuned_models, f)\n",
    "\n",
    "print(\"Fine-tuned models saved as 'fine_tuned_models.pkl'\")"
   ]
  },
  {
   "cell_type": "markdown",
   "id": "7c98ba24",
   "metadata": {
    "papermill": {
     "duration": 0.067973,
     "end_time": "2024-08-11T00:19:21.939717",
     "exception": false,
     "start_time": "2024-08-11T00:19:21.871744",
     "status": "completed"
    },
    "tags": []
   },
   "source": [
    "### Evaluating Fine-Tuned Models\n",
    "\n",
    "- **True Labels**:\n",
    "  - `true_classes`: Contains the true labels for the test data.\n",
    "\n",
    "- **Class Labels**:\n",
    "  - `class_labels`: Contains the names of the classes.\n",
    "\n",
    "- **Model Evaluation**:\n",
    "  - For each fine-tuned model in `fine_tuned_models`:\n",
    "    - **Predictions**: Uses the model to predict the classes for the test data.\n",
    "    - **Confusion Matrix**: Computes and prints the confusion matrix for the predicted vs. true labels.\n",
    "    - **Classification Report**: Generates and prints a detailed classification report including precision, recall, and F1-score for each class.\n",
    "    - **Test Accuracy**: Evaluates and prints the test accuracy of the model.\n"
   ]
  },
  {
   "cell_type": "code",
   "execution_count": 18,
   "id": "23d31910",
   "metadata": {
    "execution": {
     "iopub.execute_input": "2024-08-11T00:19:22.078299Z",
     "iopub.status.busy": "2024-08-11T00:19:22.078011Z",
     "iopub.status.idle": "2024-08-11T00:20:13.621487Z",
     "shell.execute_reply": "2024-08-11T00:20:13.620482Z"
    },
    "papermill": {
     "duration": 51.615904,
     "end_time": "2024-08-11T00:20:13.623764",
     "exception": false,
     "start_time": "2024-08-11T00:19:22.007860",
     "status": "completed"
    },
    "tags": []
   },
   "outputs": [
    {
     "name": "stdout",
     "output_type": "stream",
     "text": [
      "\u001b[1m 2/41\u001b[0m \u001b[37m━━━━━━━━━━━━━━━━━━━━\u001b[0m \u001b[1m5s\u001b[0m 153ms/step "
     ]
    },
    {
     "name": "stderr",
     "output_type": "stream",
     "text": [
      "W0000 00:00:1723335564.547176      95 graph_launch.cc:671] Fallback to op-by-op mode because memset node breaks graph update\n"
     ]
    },
    {
     "name": "stdout",
     "output_type": "stream",
     "text": [
      "\u001b[1m41/41\u001b[0m \u001b[32m━━━━━━━━━━━━━━━━━━━━\u001b[0m\u001b[37m\u001b[0m \u001b[1m6s\u001b[0m 126ms/step\n",
      "VGG16 Confusion Matrix:\n",
      "[[212  61   2  25]\n",
      " [ 24 172  25  85]\n",
      " [ 11  12 375   7]\n",
      " [  2   1   0 297]]\n",
      "VGG16 Classification Report:\n",
      "              precision    recall  f1-score   support\n",
      "\n",
      "      glioma       0.85      0.71      0.77       300\n",
      "  meningioma       0.70      0.56      0.62       306\n",
      "     notumor       0.93      0.93      0.93       405\n",
      "   pituitary       0.72      0.99      0.83       300\n",
      "\n",
      "    accuracy                           0.81      1311\n",
      "   macro avg       0.80      0.80      0.79      1311\n",
      "weighted avg       0.81      0.81      0.80      1311\n",
      "\n",
      "\u001b[1m41/41\u001b[0m \u001b[32m━━━━━━━━━━━━━━━━━━━━\u001b[0m\u001b[37m\u001b[0m \u001b[1m5s\u001b[0m 116ms/step - accuracy: 0.7071 - loss: 0.7644\n",
      "VGG16 Test Accuracy: 0.8055\n",
      "\u001b[1m 3/41\u001b[0m \u001b[32m━\u001b[0m\u001b[37m━━━━━━━━━━━━━━━━━━━\u001b[0m \u001b[1m2s\u001b[0m 72ms/step"
     ]
    },
    {
     "name": "stderr",
     "output_type": "stream",
     "text": [
      "W0000 00:00:1723335583.693475      94 graph_launch.cc:671] Fallback to op-by-op mode because memset node breaks graph update\n"
     ]
    },
    {
     "name": "stdout",
     "output_type": "stream",
     "text": [
      "\u001b[1m41/41\u001b[0m \u001b[32m━━━━━━━━━━━━━━━━━━━━\u001b[0m\u001b[37m\u001b[0m \u001b[1m13s\u001b[0m 190ms/step\n",
      "InceptionV3 Confusion Matrix:\n",
      "[[273  22   1   4]\n",
      " [ 64 194  21  27]\n",
      " [ 12  11 373   9]\n",
      " [  7   8   1 284]]\n",
      "InceptionV3 Classification Report:\n",
      "              precision    recall  f1-score   support\n",
      "\n",
      "      glioma       0.77      0.91      0.83       300\n",
      "  meningioma       0.83      0.63      0.72       306\n",
      "     notumor       0.94      0.92      0.93       405\n",
      "   pituitary       0.88      0.95      0.91       300\n",
      "\n",
      "    accuracy                           0.86      1311\n",
      "   macro avg       0.85      0.85      0.85      1311\n",
      "weighted avg       0.86      0.86      0.85      1311\n",
      "\n",
      "\u001b[1m41/41\u001b[0m \u001b[32m━━━━━━━━━━━━━━━━━━━━\u001b[0m\u001b[37m\u001b[0m \u001b[1m3s\u001b[0m 61ms/step - accuracy: 0.8383 - loss: 0.4025\n",
      "InceptionV3 Test Accuracy: 0.8574\n",
      "\u001b[1m 5/41\u001b[0m \u001b[32m━━\u001b[0m\u001b[37m━━━━━━━━━━━━━━━━━━\u001b[0m \u001b[1m1s\u001b[0m 35ms/step"
     ]
    },
    {
     "name": "stderr",
     "output_type": "stream",
     "text": [
      "W0000 00:00:1723335603.508623      93 graph_launch.cc:671] Fallback to op-by-op mode because memset node breaks graph update\n"
     ]
    },
    {
     "name": "stdout",
     "output_type": "stream",
     "text": [
      "\u001b[1m41/41\u001b[0m \u001b[32m━━━━━━━━━━━━━━━━━━━━\u001b[0m\u001b[37m\u001b[0m \u001b[1m12s\u001b[0m 165ms/step\n"
     ]
    },
    {
     "name": "stderr",
     "output_type": "stream",
     "text": [
      "W0000 00:00:1723335610.115500      93 graph_launch.cc:671] Fallback to op-by-op mode because memset node breaks graph update\n"
     ]
    },
    {
     "name": "stdout",
     "output_type": "stream",
     "text": [
      "EfficientNetB0 Confusion Matrix:\n",
      "[[  0   0 300   0]\n",
      " [  0   0 306   0]\n",
      " [  0   0 405   0]\n",
      " [  0   0 300   0]]\n",
      "EfficientNetB0 Classification Report:\n",
      "              precision    recall  f1-score   support\n",
      "\n",
      "      glioma       0.00      0.00      0.00       300\n",
      "  meningioma       0.00      0.00      0.00       306\n",
      "     notumor       0.31      1.00      0.47       405\n",
      "   pituitary       0.00      0.00      0.00       300\n",
      "\n",
      "    accuracy                           0.31      1311\n",
      "   macro avg       0.08      0.25      0.12      1311\n",
      "weighted avg       0.10      0.31      0.15      1311\n",
      "\n",
      "\u001b[1m41/41\u001b[0m \u001b[32m━━━━━━━━━━━━━━━━━━━━\u001b[0m\u001b[37m\u001b[0m \u001b[1m2s\u001b[0m 37ms/step - accuracy: 0.1600 - loss: 1.4301\n",
      "EfficientNetB0 Test Accuracy: 0.3089\n"
     ]
    }
   ],
   "source": [
    "from sklearn.metrics import classification_report, confusion_matrix\n",
    "import numpy as np\n",
    "\n",
    "# Track true labels separately\n",
    "true_classes = test_labels\n",
    "\n",
    "# Get the names of the classes\n",
    "class_labels = class_names\n",
    "\n",
    "# Evaluate each fine-tuned model individually and print the classification report\n",
    "for model_name, model in fine_tuned_models.items():\n",
    "    # Use the model to predict the labels for the test data\n",
    "    predictions = model.predict(test_images)\n",
    "    predicted_classes = np.argmax(predictions, axis=1)\n",
    "\n",
    "    # Calculate confusion matrix\n",
    "    cm = confusion_matrix(true_classes, predicted_classes)\n",
    "    print(f\"{model_name} Confusion Matrix:\")\n",
    "    print(cm)\n",
    "\n",
    "    # Generate and print classification report\n",
    "    report = classification_report(true_classes, predicted_classes, target_names=class_labels)\n",
    "    print(f\"{model_name} Classification Report:\")\n",
    "    print(report)\n",
    "\n",
    "    # Evaluate the model on the test data\n",
    "    test_loss, test_acc = model.evaluate(test_images, test_labels)\n",
    "    print(f\"{model_name} Test Accuracy: {test_acc:.4f}\")"
   ]
  },
  {
   "cell_type": "markdown",
   "id": "c459b56c",
   "metadata": {
    "papermill": {
     "duration": 0.087656,
     "end_time": "2024-08-11T00:20:13.801205",
     "exception": false,
     "start_time": "2024-08-11T00:20:13.713549",
     "status": "completed"
    },
    "tags": []
   },
   "source": [
    "### Model Evaluation with Confusion Matrix and Classification Report\n",
    "\n",
    "- **Function**: \n",
    "  - **`plot_confusion_matrix(cm, class_names, model_name)`**: Plots a confusion matrix as a heatmap, annotating the counts of true vs. predicted classes.\n",
    "\n",
    "- **Model Evaluation Loop**:\n",
    "  - **Predictions**: Each model in `fine_tuned_models` is used to predict classes on the test set.\n",
    "  - **Confusion Matrix**: Computes and prints the confusion matrix for each model, followed by a plot of the matrix.\n",
    "  - **Classification Report**: Generates and prints a classification report, detailing precision, recall, and F1-score.\n",
    "  - **Test Accuracy**: Evaluates and prints the accuracy of each model on the test data.\n",
    "  - **Error Handling**: Catches and prints any exceptions that occur during evaluation to ensure the loop continues even if one model fails."
   ]
  },
  {
   "cell_type": "code",
   "execution_count": 19,
   "id": "2466f038",
   "metadata": {
    "execution": {
     "iopub.execute_input": "2024-08-11T00:20:13.975850Z",
     "iopub.status.busy": "2024-08-11T00:20:13.975520Z",
     "iopub.status.idle": "2024-08-11T00:20:46.818618Z",
     "shell.execute_reply": "2024-08-11T00:20:46.817638Z"
    },
    "papermill": {
     "duration": 33.033512,
     "end_time": "2024-08-11T00:20:46.922411",
     "exception": false,
     "start_time": "2024-08-11T00:20:13.888899",
     "status": "completed"
    },
    "tags": []
   },
   "outputs": [
    {
     "name": "stdout",
     "output_type": "stream",
     "text": [
      "Evaluating model: VGG16\n",
      "\u001b[1m 2/41\u001b[0m \u001b[37m━━━━━━━━━━━━━━━━━━━━\u001b[0m \u001b[1m3s\u001b[0m 100ms/step "
     ]
    },
    {
     "name": "stderr",
     "output_type": "stream",
     "text": [
      "W0000 00:00:1723335614.722171      94 graph_launch.cc:671] Fallback to op-by-op mode because memset node breaks graph update\n"
     ]
    },
    {
     "name": "stdout",
     "output_type": "stream",
     "text": [
      "\u001b[1m41/41\u001b[0m \u001b[32m━━━━━━━━━━━━━━━━━━━━\u001b[0m\u001b[37m\u001b[0m \u001b[1m6s\u001b[0m 125ms/step\n",
      "An error occurred while evaluating VGG16: 'NumpyArrayIterator' object has no attribute 'classes'\n",
      "Evaluating model: InceptionV3\n",
      "\u001b[1m 3/41\u001b[0m \u001b[32m━\u001b[0m\u001b[37m━━━━━━━━━━━━━━━━━━━\u001b[0m \u001b[1m2s\u001b[0m 76ms/step"
     ]
    },
    {
     "name": "stderr",
     "output_type": "stream",
     "text": [
      "W0000 00:00:1723335625.352999      93 graph_launch.cc:671] Fallback to op-by-op mode because memset node breaks graph update\n"
     ]
    },
    {
     "name": "stdout",
     "output_type": "stream",
     "text": [
      "\u001b[1m41/41\u001b[0m \u001b[32m━━━━━━━━━━━━━━━━━━━━\u001b[0m\u001b[37m\u001b[0m \u001b[1m13s\u001b[0m 195ms/step\n",
      "An error occurred while evaluating InceptionV3: 'NumpyArrayIterator' object has no attribute 'classes'\n",
      "Evaluating model: EfficientNetB0\n",
      "\u001b[1m 5/41\u001b[0m \u001b[32m━━\u001b[0m\u001b[37m━━━━━━━━━━━━━━━━━━\u001b[0m \u001b[1m1s\u001b[0m 39ms/step"
     ]
    },
    {
     "name": "stderr",
     "output_type": "stream",
     "text": [
      "W0000 00:00:1723335639.981878      95 graph_launch.cc:671] Fallback to op-by-op mode because memset node breaks graph update\n"
     ]
    },
    {
     "name": "stdout",
     "output_type": "stream",
     "text": [
      "\u001b[1m41/41\u001b[0m \u001b[32m━━━━━━━━━━━━━━━━━━━━\u001b[0m\u001b[37m\u001b[0m \u001b[1m14s\u001b[0m 170ms/step\n",
      "An error occurred while evaluating EfficientNetB0: 'NumpyArrayIterator' object has no attribute 'classes'\n"
     ]
    },
    {
     "name": "stderr",
     "output_type": "stream",
     "text": [
      "W0000 00:00:1723335646.789105      95 graph_launch.cc:671] Fallback to op-by-op mode because memset node breaks graph update\n"
     ]
    }
   ],
   "source": [
    "from sklearn.metrics import classification_report, confusion_matrix\n",
    "import numpy as np\n",
    "import seaborn as sns\n",
    "import matplotlib.pyplot as plt\n",
    "\n",
    "# Function to plot confusion matrix\n",
    "def plot_confusion_matrix(cm, class_names, model_name):\n",
    "    plt.figure(figsize=(10, 7))\n",
    "    sns.heatmap(cm, annot=True, fmt='d', cmap='Blues', xticklabels=class_names, yticklabels=class_names)\n",
    "    plt.title(f'Confusion Matrix for {model_name}')\n",
    "    plt.xlabel('Predicted')\n",
    "    plt.ylabel('True')\n",
    "    plt.show()\n",
    "\n",
    "# Evaluate each fine-tuned model individually and print the classification report and plot confusion matrix\n",
    "for model_name, model in fine_tuned_models.items():\n",
    "    print(f\"Evaluating model: {model_name}\")\n",
    "    \n",
    "    try:\n",
    "        # Use the model to predict the labels for the test data\n",
    "        predictions = model.predict(test_generator)\n",
    "        predicted_classes = np.argmax(predictions, axis=1)\n",
    "\n",
    "        # Get the true labels\n",
    "        true_classes = test_generator.classes\n",
    "\n",
    "        # Get the names of the classes\n",
    "        class_labels = list(test_generator.class_indices.keys())\n",
    "\n",
    "        # Calculate confusion matrix\n",
    "        cm = confusion_matrix(true_classes, predicted_classes)\n",
    "        print(f\"{model_name} Confusion Matrix:\")\n",
    "        print(cm)\n",
    "\n",
    "        # Plot confusion matrix\n",
    "        plot_confusion_matrix(cm, class_labels, model_name)\n",
    "\n",
    "        # Generate and print classification report\n",
    "        report = classification_report(true_classes, predicted_classes, target_names=class_labels)\n",
    "        print(f\"{model_name} Classification Report:\")\n",
    "        print(report)\n",
    "\n",
    "        # Evaluate the model on the test data\n",
    "        test_loss, test_acc = model.evaluate(test_generator)\n",
    "        print(f\"{model_name} Test Accuracy: {test_acc:.4f}\")\n",
    "    \n",
    "    except Exception as e:\n",
    "        print(f\"An error occurred while evaluating {model_name}: {e}\")"
   ]
  },
  {
   "cell_type": "markdown",
   "id": "79669a45",
   "metadata": {
    "papermill": {
     "duration": 0.094485,
     "end_time": "2024-08-11T00:20:47.118004",
     "exception": false,
     "start_time": "2024-08-11T00:20:47.023519",
     "status": "completed"
    },
    "tags": []
   },
   "source": [
    "### Ensemble Model Evaluation\n",
    "\n",
    "- **Confusion Matrix Plotting Function**:\n",
    "  - **`plot_confusion_matrix(cm, class_names, model_name)`**: Plots a confusion matrix for the given model using Seaborn's heatmap.\n",
    "\n",
    "- **Loading Models**:\n",
    "  - **`loaded_models = pickle.load(f)`**: Loads the fine-tuned models from the `fine_tuned_models.pkl` file.\n",
    "\n",
    "- **Ensemble Predictions**:\n",
    "  - **`create_ensemble(models, test_generator)`**: Generates ensemble predictions by averaging the predictions of all loaded models.\n",
    "\n",
    "- **Ensemble Accuracy**:\n",
    "  - Calculates and prints the ensemble's test accuracy by comparing the averaged predictions with the true test labels.\n",
    "\n",
    "- **Confusion Matrix and Classification Report**:\n",
    "  - **Ensemble Confusion Matrix**: Computes and prints the confusion matrix for the ensemble predictions.\n",
    "  - **Ensemble Classification Report**: Generates and prints a classification report for the ensemble.\n",
    "\n",
    "- **Visualization**:\n",
    "  - **`plot_confusion_matrix(ensemble_cm, class_names, \"Ensemble Model\")`**: Visualizes the confusion matrix for the ensemble model."
   ]
  },
  {
   "cell_type": "code",
   "execution_count": 20,
   "id": "2437868c",
   "metadata": {
    "execution": {
     "iopub.execute_input": "2024-08-11T00:20:47.311345Z",
     "iopub.status.busy": "2024-08-11T00:20:47.310989Z",
     "iopub.status.idle": "2024-08-11T00:21:30.872536Z",
     "shell.execute_reply": "2024-08-11T00:21:30.871677Z"
    },
    "papermill": {
     "duration": 43.660619,
     "end_time": "2024-08-11T00:21:30.874519",
     "exception": false,
     "start_time": "2024-08-11T00:20:47.213900",
     "status": "completed"
    },
    "tags": []
   },
   "outputs": [
    {
     "name": "stdout",
     "output_type": "stream",
     "text": [
      "\u001b[1m 2/41\u001b[0m \u001b[37m━━━━━━━━━━━━━━━━━━━━\u001b[0m \u001b[1m5s\u001b[0m 148ms/step "
     ]
    },
    {
     "name": "stderr",
     "output_type": "stream",
     "text": [
      "W0000 00:00:1723335662.178177      94 graph_launch.cc:671] Fallback to op-by-op mode because memset node breaks graph update\n"
     ]
    },
    {
     "name": "stdout",
     "output_type": "stream",
     "text": [
      "\u001b[1m41/41\u001b[0m \u001b[32m━━━━━━━━━━━━━━━━━━━━\u001b[0m\u001b[37m\u001b[0m \u001b[1m6s\u001b[0m 124ms/step\n",
      "\u001b[1m 3/41\u001b[0m \u001b[32m━\u001b[0m\u001b[37m━━━━━━━━━━━━━━━━━━━\u001b[0m \u001b[1m2s\u001b[0m 74ms/step"
     ]
    },
    {
     "name": "stderr",
     "output_type": "stream",
     "text": [
      "W0000 00:00:1723335672.284517      93 graph_launch.cc:671] Fallback to op-by-op mode because memset node breaks graph update\n"
     ]
    },
    {
     "name": "stdout",
     "output_type": "stream",
     "text": [
      "\u001b[1m41/41\u001b[0m \u001b[32m━━━━━━━━━━━━━━━━━━━━\u001b[0m\u001b[37m\u001b[0m \u001b[1m12s\u001b[0m 183ms/step\n",
      "\u001b[1m 5/41\u001b[0m \u001b[32m━━\u001b[0m\u001b[37m━━━━━━━━━━━━━━━━━━\u001b[0m \u001b[1m1s\u001b[0m 35ms/step"
     ]
    },
    {
     "name": "stderr",
     "output_type": "stream",
     "text": [
      "W0000 00:00:1723335684.503970      92 graph_launch.cc:671] Fallback to op-by-op mode because memset node breaks graph update\n"
     ]
    },
    {
     "name": "stdout",
     "output_type": "stream",
     "text": [
      "\u001b[1m41/41\u001b[0m \u001b[32m━━━━━━━━━━━━━━━━━━━━\u001b[0m\u001b[37m\u001b[0m \u001b[1m11s\u001b[0m 150ms/step\n"
     ]
    },
    {
     "name": "stderr",
     "output_type": "stream",
     "text": [
      "W0000 00:00:1723335690.503050      92 graph_launch.cc:671] Fallback to op-by-op mode because memset node breaks graph update\n"
     ]
    },
    {
     "name": "stdout",
     "output_type": "stream",
     "text": [
      "Ensemble Test Accuracy: 0.8520\n",
      "Ensemble Confusion Matrix:\n",
      "[[254  38   2   6]\n",
      " [ 42 187  24  53]\n",
      " [ 10   7 384   4]\n",
      " [  6   1   1 292]]\n",
      "Ensemble Classification Report:\n",
      "              precision    recall  f1-score   support\n",
      "\n",
      "      glioma       0.81      0.85      0.83       300\n",
      "  meningioma       0.80      0.61      0.69       306\n",
      "     notumor       0.93      0.95      0.94       405\n",
      "   pituitary       0.82      0.97      0.89       300\n",
      "\n",
      "    accuracy                           0.85      1311\n",
      "   macro avg       0.84      0.84      0.84      1311\n",
      "weighted avg       0.85      0.85      0.85      1311\n",
      "\n"
     ]
    },
    {
     "data": {
      "image/png": "[encoded data removed]",
      "text/plain": [
       "<Figure size 1000x700 with 2 Axes>"
      ]
     },
     "metadata": {},
     "output_type": "display_data"
    }
   ],
   "source": [
    "import pickle\n",
    "import numpy as np\n",
    "from sklearn.metrics import classification_report, confusion_matrix\n",
    "import matplotlib.pyplot as plt\n",
    "import seaborn as sns\n",
    "\n",
    "# Function to plot confusion matrix\n",
    "def plot_confusion_matrix(cm, class_names, model_name):\n",
    "    plt.figure(figsize=(10, 7))\n",
    "    sns.heatmap(cm, annot=True, fmt='d', cmap='Blues', xticklabels=class_names, yticklabels=class_names)\n",
    "    plt.title(f'Confusion Matrix for {model_name}')\n",
    "    plt.xlabel('Predicted')\n",
    "    plt.ylabel('True')\n",
    "    plt.show()\n",
    "\n",
    "# Load the fine-tuned models from the pickle file\n",
    "with open('fine_tuned_models.pkl', 'rb') as f:\n",
    "    loaded_models = pickle.load(f)\n",
    "\n",
    "# Function to create ensemble predictions\n",
    "def create_ensemble(models, test_generator):\n",
    "    preds = [model.predict(test_generator) for model in models]\n",
    "    avg_preds = np.mean(preds, axis=0)\n",
    "    return avg_preds\n",
    "\n",
    "# Generate ensemble predictions\n",
    "ensemble_preds = create_ensemble(loaded_models.values(), test_generator)\n",
    "\n",
    "# Calculate ensemble accuracy\n",
    "ensemble_accuracy = np.mean(np.argmax(ensemble_preds, axis=1) == test_labels)\n",
    "print(f\"Ensemble Test Accuracy: {ensemble_accuracy:.4f}\")\n",
    "\n",
    "# Generate confusion matrix and classification report for the ensemble\n",
    "ensemble_predicted_classes = np.argmax(ensemble_preds, axis=1)\n",
    "ensemble_cm = confusion_matrix(test_labels, ensemble_predicted_classes)\n",
    "ensemble_report = classification_report(test_labels, ensemble_predicted_classes, target_names=class_names)\n",
    "\n",
    "print(\"Ensemble Confusion Matrix:\")\n",
    "print(ensemble_cm)\n",
    "print(\"Ensemble Classification Report:\")\n",
    "print(ensemble_report)\n",
    "\n",
    "# Visualize the confusion matrix\n",
    "plot_confusion_matrix(ensemble_cm, class_names, \"Ensemble Model\")"
   ]
  },
  {
   "cell_type": "markdown",
   "id": "af8dbdb2",
   "metadata": {
    "papermill": {
     "duration": 0.104642,
     "end_time": "2024-08-11T00:21:31.083434",
     "exception": false,
     "start_time": "2024-08-11T00:21:30.978792",
     "status": "completed"
    },
    "tags": []
   },
   "source": [
    "### SHAP Model Explanation for Image Classification\n",
    "\n",
    "- **Sample Image Preparation**:\n",
    "  - **`sample_image = test_images[0:1]`**: Selects a single image from the test set.\n",
    "  - Ensures the sample image has the correct shape for model input (batch size, height, width, channels).\n",
    "\n",
    "- **SHAP Explanation Function**:\n",
    "  - **`explain_model(model, sample_image, train_images)`**:\n",
    "    - Attempts to explain the model's predictions using SHAP.\n",
    "    - **DeepExplainer**:\n",
    "      - Tries using SHAP's `DeepExplainer` for deep learning models, using the model's input and output layers.\n",
    "      - If successful, calculates SHAP values for the sample image.\n",
    "    - **KernelExplainer**:\n",
    "      - If `DeepExplainer` fails, attempts to use `KernelExplainer`.\n",
    "      - Flattens the sample image and training images for compatibility with `KernelExplainer`.\n",
    "      - Defines a wrapper function for model predictions on flattened data.\n",
    "    - **Visualization**:\n",
    "      - If SHAP values are successfully generated, visualizes the explanations using `shap.image_plot`.\n",
    "    - If both explainers fail, outputs an error message.\n",
    "\n",
    "- **Execution**:\n",
    "  - The function is called to generate and visualize SHAP explanations for the selected sample image using the model."
   ]
  },
  {
   "cell_type": "code",
   "execution_count": 21,
   "id": "08d5681b",
   "metadata": {
    "execution": {
     "iopub.execute_input": "2024-08-11T00:21:31.294022Z",
     "iopub.status.busy": "2024-08-11T00:21:31.293695Z"
    },
    "papermill": {
     "duration": 632.044355,
     "end_time": "2024-08-11T00:32:03.232321",
     "exception": false,
     "start_time": "2024-08-11T00:21:31.187966",
     "status": "completed"
    },
    "tags": []
   },
   "outputs": [
    {
     "name": "stdout",
     "output_type": "stream",
     "text": [
      "Trying SHAP DeepExplainer...\n",
      "SHAP DeepExplainer failed: 'tuple' object has no attribute 'as_list'\n",
      "Trying SHAP KernelExplainer...\n",
      "\u001b[1m4/4\u001b[0m \u001b[32m━━━━━━━━━━━━━━━━━━━━\u001b[0m\u001b[37m\u001b[0m \u001b[1m6s\u001b[0m 2s/step\n"
     ]
    },
    {
     "name": "stderr",
     "output_type": "stream",
     "text": [
      "W0000 00:00:1723335704.100293      93 graph_launch.cc:671] Fallback to op-by-op mode because memset node breaks graph update\n"
     ]
    },
    {
     "data": {
      "application/vnd.jupyter.widget-view+json": {
       "model_id": "29c0662c81bc424391864af6a803f641",
       "version_major": 2,
       "version_minor": 0
      },
      "text/plain": [
       "  0%|          | 0/1 [00:00<?, ?it/s]"
      ]
     },
     "metadata": {},
     "output_type": "display_data"
    },
    {
     "name": "stdout",
     "output_type": "stream",
     "text": [
      "\u001b[1m1/1\u001b[0m \u001b[32m━━━━━━━━━━━━━━━━━━━━\u001b[0m\u001b[37m\u001b[0m \u001b[1m6s\u001b[0m 6s/step\n"
     ]
    }
   ],
   "source": [
    "import shap\n",
    "import numpy as np\n",
    "\n",
    "# Load a single image from the test set and ensure it's in the correct format\n",
    "sample_image = test_images[0:1]\n",
    "\n",
    "# Ensure sample image has the correct shape (batch size, height, width, channels)\n",
    "if len(sample_image.shape) == 3:\n",
    "    sample_image = np.expand_dims(sample_image, axis=0)\n",
    "\n",
    "# Function to explain the model's predictions using SHAP\n",
    "def explain_model(model, sample_image, train_images):\n",
    "    shap_values = None\n",
    "\n",
    "    # Attempt to use DeepExplainer (useful for deep learning models, but can be tricky with TF models)\n",
    "    try:\n",
    "        print(\"Trying SHAP DeepExplainer...\")\n",
    "        explainer = shap.DeepExplainer((model.input, model.layers[-1].output), train_images[:100])\n",
    "        shap_values = explainer.shap_values(sample_image)\n",
    "        print(\"SHAP DeepExplainer successful!\")\n",
    "    except Exception as e:\n",
    "        print(f\"SHAP DeepExplainer failed: {e}\")\n",
    "\n",
    "    # If DeepExplainer fails, try KernelExplainer\n",
    "    if shap_values is None:\n",
    "        try:\n",
    "            print(\"Trying SHAP KernelExplainer...\")\n",
    "            # Flatten the image and adjust for KernelExplainer input\n",
    "            sample_image_flat = sample_image.reshape((sample_image.shape[0], -1))\n",
    "            train_images_flat = train_images[:100].reshape((100, -1))\n",
    "\n",
    "            # Define a wrapper function for model prediction\n",
    "            def model_predict_flat(input_data):\n",
    "                input_data = input_data.reshape((-1, *sample_image.shape[1:]))\n",
    "                return model.predict(input_data)\n",
    "\n",
    "            explainer = shap.KernelExplainer(model_predict_flat, train_images_flat)\n",
    "            shap_values = explainer.shap_values(sample_image_flat)\n",
    "            print(\"SHAP KernelExplainer successful!\")\n",
    "        except Exception as e:\n",
    "            print(f\"SHAP KernelExplainer failed: {e}\")\n",
    "\n",
    "    # If SHAP explanations were successful, visualize them\n",
    "    if shap_values is not None:\n",
    "        shap.image_plot([shap_values], sample_image)\n",
    "    else:\n",
    "        print(\"Failed to generate SHAP explanations with both DeepExplainer and KernelExplainer.\")\n",
    "\n",
    "# Call the function to explain the model\n",
    "explain_model(model, sample_image, train_images)"
   ]
  }
 ],
 "metadata": {
  "kaggle": {
   "accelerator": "nvidiaTeslaT4",
   "dataSources": [
    {
     "datasetId": 1608934,
     "sourceId": 2645886,
     "sourceType": "datasetVersion"
    }
   ],
   "dockerImageVersionId": 30732,
   "isGpuEnabled": true,
   "isInternetEnabled": true,
   "language": "python",
   "sourceType": "notebook"
  },
  "kernelspec": {
   "display_name": "Python 3",
   "language": "python",
   "name": "python3"
  },
  "language_info": {
   "codemirror_mode": {
    "name": "ipython",
    "version": 3
   },
   "file_extension": ".py",
   "mimetype": "text/x-python",
   "name": "python",
   "nbconvert_exporter": "python",
   "pygments_lexer": "ipython3",
   "version": "3.10.13"
  },
  "papermill": {
   "default_parameters": {},
   "duration": 6915.944207,
   "end_time": "2024-08-11T00:32:03.400391",
   "environment_variables": {},
   "exception": null,
   "input_path": "__notebook__.ipynb",
   "output_path": "__notebook__.ipynb",
   "parameters": {},
   "start_time": "2024-08-10T22:36:47.456184",
   "version": "2.5.0"
  }
 },
 "nbformat": 4,
 "nbformat_minor": 5
}
